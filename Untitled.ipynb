{
    "cells": [
        {
            "cell_type": "code",
            "execution_count": 6,
            "source": [
                "import pandas as pd\r\n",
                "import numpy as np\r\n",
                "\r\n",
                "print(\"Hello Bye\")\r\n"
            ],
            "outputs": [
                {
                    "output_type": "stream",
                    "name": "stdout",
                    "text": [
                        "Hello Bye\n"
                    ]
                }
            ],
            "metadata": {}
        },
        {
            "cell_type": "markdown",
            "source": [
                "Wow this is MarkUp"
            ],
            "metadata": {}
        },
        {
            "cell_type": "code",
            "execution_count": 7,
            "source": [
                "print(\"Hello Jupyter\")"
            ],
            "outputs": [
                {
                    "output_type": "stream",
                    "name": "stdout",
                    "text": [
                        "Hello Jupyter\n"
                    ]
                }
            ],
            "metadata": {}
        }
    ],
    "metadata": {
        "orig_nbformat": 4,
        "language_info": {
            "name": "python",
            "version": "3.9.7",
            "mimetype": "text/x-python",
            "codemirror_mode": {
                "name": "ipython",
                "version": 3
            },
            "pygments_lexer": "ipython3",
            "nbconvert_exporter": "python",
            "file_extension": ".py"
        },
        "kernelspec": {
            "name": "python3",
            "display_name": "Python 3.9.7 64-bit (windows store)"
        },
        "interpreter": {
            "hash": "cf2ad0db3779d4a62cad1f0663bdda058aecd202ba0ba0afbfb28a7f3aad6fe5"
        }
    },
    "nbformat": 4,
    "nbformat_minor": 2
}