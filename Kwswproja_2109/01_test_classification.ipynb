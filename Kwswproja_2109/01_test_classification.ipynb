{
 "cells": [
  {
   "cell_type": "markdown",
   "metadata": {
    "id": "OPdBFvMqgEGa"
   },
   "source": [
    "# **Classification**\n",
    "data가 여러 곳에 산점이 되어있을 때 grouping, 나눠주는 것을 의미한다\n",
    "\n",
    "i.e. Grouping 할 수 있는 문제들은 Classification 문제라고 한다 \n",
    "\n",
    "ML, NLP, Deep-Learning 문제는 모두 Classfication 또는 Regression으로 해결할 수 있다"
   ]
  },
  {
   "cell_type": "markdown",
   "metadata": {},
   "source": [
    "## **import Data**"
   ]
  },
  {
   "cell_type": "code",
   "execution_count": 42,
   "metadata": {
    "execution": {
     "iopub.execute_input": "2021-10-12T17:09:25.775006Z",
     "iopub.status.busy": "2021-10-12T17:09:25.774469Z",
     "iopub.status.idle": "2021-10-12T17:09:25.778733Z",
     "shell.execute_reply": "2021-10-12T17:09:25.778132Z",
     "shell.execute_reply.started": "2021-10-12T17:09:25.774963Z"
    },
    "id": "ZZnejMMkgkK4"
   },
   "outputs": [],
   "source": [
    "import pandas as pd \n",
    "import numpy as np "
   ]
  },
  {
   "cell_type": "code",
   "execution_count": 43,
   "metadata": {
    "execution": {
     "iopub.execute_input": "2021-10-12T17:09:27.324652Z",
     "iopub.status.busy": "2021-10-12T17:09:27.324393Z",
     "iopub.status.idle": "2021-10-12T17:09:27.351167Z",
     "shell.execute_reply": "2021-10-12T17:09:27.350639Z",
     "shell.execute_reply.started": "2021-10-12T17:09:27.324626Z"
    },
    "id": "6ul4IapGg5A_",
    "outputId": "1d29cf8e-2ef9-46ec-a7e2-19ceee7d4baa"
   },
   "outputs": [],
   "source": [
    "df = pd.read_csv(\"../input/hbpark-titanic-data/titanic.csv\")\n",
    "df[:5]"
   ]
  },
  {
   "cell_type": "markdown",
   "metadata": {},
   "source": [
    "## **1. 모델에 사용할 컬럼(column, feature) 결정**"
   ]
  },
  {
   "cell_type": "code",
   "execution_count": 44,
   "metadata": {
    "execution": {
     "iopub.execute_input": "2021-10-12T17:09:30.375397Z",
     "iopub.status.busy": "2021-10-12T17:09:30.374973Z",
     "iopub.status.idle": "2021-10-12T17:09:30.380200Z",
     "shell.execute_reply": "2021-10-12T17:09:30.379209Z",
     "shell.execute_reply.started": "2021-10-12T17:09:30.375370Z"
    }
   },
   "outputs": [],
   "source": [
    "len(df)"
   ]
  },
  {
   "cell_type": "code",
   "execution_count": 45,
   "metadata": {
    "execution": {
     "iopub.execute_input": "2021-10-12T17:09:32.260387Z",
     "iopub.status.busy": "2021-10-12T17:09:32.259457Z",
     "iopub.status.idle": "2021-10-12T17:09:32.266940Z",
     "shell.execute_reply": "2021-10-12T17:09:32.266102Z",
     "shell.execute_reply.started": "2021-10-12T17:09:32.260338Z"
    },
    "id": "kdquyw0VjGno",
    "outputId": "e1f76891-a984-44eb-94a4-2d1ea6d0cb1a"
   },
   "outputs": [],
   "source": [
    "df.columns"
   ]
  },
  {
   "cell_type": "markdown",
   "metadata": {},
   "source": [
    "Classification 문제이기 때문에 'Survived'(생존여부)를 맞추도록 하자"
   ]
  },
  {
   "cell_type": "code",
   "execution_count": 47,
   "metadata": {
    "execution": {
     "iopub.execute_input": "2021-10-12T17:09:35.314658Z",
     "iopub.status.busy": "2021-10-12T17:09:35.313913Z",
     "iopub.status.idle": "2021-10-12T17:09:35.318719Z",
     "shell.execute_reply": "2021-10-12T17:09:35.317814Z",
     "shell.execute_reply.started": "2021-10-12T17:09:35.314620Z"
    },
    "id": "KFSPGvljjL0e"
   },
   "outputs": [],
   "source": [
    "X_column = ['Pclass', 'Sex', 'Age', 'SibSp','Parch', 'Embarked']\n",
    "y_column = 'Survived' # 정답 값, y, true value, target value, label"
   ]
  },
  {
   "cell_type": "markdown",
   "metadata": {},
   "source": [
    "정답값 분포를 확인해 보자 -> 0 or 1 \n",
    "\n",
    "클래스(0,1) 예측 -> Classfication 문제가 된다"
   ]
  },
  {
   "cell_type": "code",
   "execution_count": 48,
   "metadata": {
    "execution": {
     "iopub.execute_input": "2021-10-12T17:09:36.797597Z",
     "iopub.status.busy": "2021-10-12T17:09:36.796816Z",
     "iopub.status.idle": "2021-10-12T17:09:36.803482Z",
     "shell.execute_reply": "2021-10-12T17:09:36.802657Z",
     "shell.execute_reply.started": "2021-10-12T17:09:36.797545Z"
    },
    "id": "w0vM_jSBkAjK",
    "outputId": "d7d86ec1-24af-42f9-b4dd-9945270fb5ce"
   },
   "outputs": [],
   "source": [
    "print(df['Survived'].unique()) # 0 사망, 1 생존 \n",
    "print(df['Survived'].nunique())"
   ]
  },
  {
   "cell_type": "markdown",
   "metadata": {},
   "source": [
    "최종적으로 모델에 사용할 컬럼 (column, feature) 결정"
   ]
  },
  {
   "cell_type": "code",
   "execution_count": 49,
   "metadata": {
    "execution": {
     "iopub.execute_input": "2021-10-12T17:09:44.923802Z",
     "iopub.status.busy": "2021-10-12T17:09:44.923521Z",
     "iopub.status.idle": "2021-10-12T17:09:44.943077Z",
     "shell.execute_reply": "2021-10-12T17:09:44.942205Z",
     "shell.execute_reply.started": "2021-10-12T17:09:44.923776Z"
    },
    "id": "Hf0CoX4IlaQK",
    "outputId": "0ad301ab-8494-4f24-bd54-fa8077cb8745"
   },
   "outputs": [],
   "source": [
    "input_data = df[X_column + [y_column]].copy() # Memory\n",
    "input_data"
   ]
  },
  {
   "cell_type": "markdown",
   "metadata": {},
   "source": [
    "## **2. 모델에 입력할 데이터 타입 변환**\n",
    "\n",
    "numeric value 숫자만 가능하다, int, float"
   ]
  },
  {
   "cell_type": "code",
   "execution_count": 50,
   "metadata": {
    "execution": {
     "iopub.execute_input": "2021-10-12T17:09:48.013794Z",
     "iopub.status.busy": "2021-10-12T17:09:48.013305Z",
     "iopub.status.idle": "2021-10-12T17:09:48.020981Z",
     "shell.execute_reply": "2021-10-12T17:09:48.020026Z",
     "shell.execute_reply.started": "2021-10-12T17:09:48.013759Z"
    },
    "id": "UejIFVYWl0ip",
    "outputId": "3d181020-83e9-41a5-9b88-c5c679432839"
   },
   "outputs": [],
   "source": [
    "input_data.dtypes "
   ]
  },
  {
   "cell_type": "code",
   "execution_count": 51,
   "metadata": {
    "execution": {
     "iopub.execute_input": "2021-10-12T17:09:50.000437Z",
     "iopub.status.busy": "2021-10-12T17:09:49.999679Z",
     "iopub.status.idle": "2021-10-12T17:09:50.006845Z",
     "shell.execute_reply": "2021-10-12T17:09:50.005998Z",
     "shell.execute_reply.started": "2021-10-12T17:09:50.000399Z"
    },
    "id": "tiWJeKCImA3a",
    "outputId": "9e29bbdc-afee-4457-a7be-3b610021b71c"
   },
   "outputs": [],
   "source": [
    "# categorical columns extraction\n",
    "# cat_cols = ['Sex', 'Embarked']\n",
    "cat_cols = input_data.columns[input_data.dtypes == object]\n",
    "cat_cols"
   ]
  },
  {
   "cell_type": "code",
   "execution_count": 52,
   "metadata": {
    "execution": {
     "iopub.execute_input": "2021-10-12T17:09:51.484218Z",
     "iopub.status.busy": "2021-10-12T17:09:51.483568Z",
     "iopub.status.idle": "2021-10-12T17:09:51.504534Z",
     "shell.execute_reply": "2021-10-12T17:09:51.503668Z",
     "shell.execute_reply.started": "2021-10-12T17:09:51.484181Z"
    }
   },
   "outputs": [],
   "source": [
    "# label encoding (integer encoding)\n",
    "from sklearn.preprocessing import LabelEncoder\n",
    "\n",
    "le = LabelEncoder()\n",
    "\n",
    "for c in cat_cols : \n",
    "    input_data[c] = le.fit_transform(list(input_data[c])) # list() 로 씌우면 결측치 자동 처리\n",
    "\n",
    "input_data"
   ]
  },
  {
   "cell_type": "code",
   "execution_count": 53,
   "metadata": {
    "execution": {
     "iopub.execute_input": "2021-10-12T17:09:53.666977Z",
     "iopub.status.busy": "2021-10-12T17:09:53.666374Z",
     "iopub.status.idle": "2021-10-12T17:09:53.673004Z",
     "shell.execute_reply": "2021-10-12T17:09:53.672086Z",
     "shell.execute_reply.started": "2021-10-12T17:09:53.666936Z"
    }
   },
   "outputs": [],
   "source": [
    "# Embarked의 마지막 값들을 확인할 수 있음  \n",
    "print(le.classes_)\n",
    "#결측치 변환값을 확인 \n",
    "print(input_data['Embarked'].unique())"
   ]
  },
  {
   "cell_type": "code",
   "execution_count": 54,
   "metadata": {
    "execution": {
     "iopub.execute_input": "2021-10-12T17:09:55.306961Z",
     "iopub.status.busy": "2021-10-12T17:09:55.306670Z",
     "iopub.status.idle": "2021-10-12T17:09:55.314738Z",
     "shell.execute_reply": "2021-10-12T17:09:55.313851Z",
     "shell.execute_reply.started": "2021-10-12T17:09:55.306930Z"
    },
    "id": "j3famiv5msmU",
    "outputId": "8aac4b48-5d4a-433e-ce6f-6ee94ff682a7"
   },
   "outputs": [],
   "source": [
    "input_data.dtypes"
   ]
  },
  {
   "cell_type": "markdown",
   "metadata": {},
   "source": [
    "모델에 결측치가 있으면 학습을 하지 못하기 때문에 결측치를 채워줘야 한다"
   ]
  },
  {
   "cell_type": "code",
   "execution_count": 69,
   "metadata": {
    "execution": {
     "iopub.execute_input": "2021-10-12T17:27:02.424951Z",
     "iopub.status.busy": "2021-10-12T17:27:02.424679Z",
     "iopub.status.idle": "2021-10-12T17:27:03.005041Z",
     "shell.execute_reply": "2021-10-12T17:27:03.004148Z",
     "shell.execute_reply.started": "2021-10-12T17:27:02.424926Z"
    }
   },
   "outputs": [],
   "source": [
    "# 결측치에 대해 graph로 보여준다 \n",
    "import missingno as msno\n",
    "msno.matrix(input_data, figsize=(15,8))"
   ]
  },
  {
   "cell_type": "code",
   "execution_count": 70,
   "metadata": {
    "execution": {
     "iopub.execute_input": "2021-10-12T17:27:29.845856Z",
     "iopub.status.busy": "2021-10-12T17:27:29.845562Z",
     "iopub.status.idle": "2021-10-12T17:27:29.853634Z",
     "shell.execute_reply": "2021-10-12T17:27:29.852813Z",
     "shell.execute_reply.started": "2021-10-12T17:27:29.845823Z"
    }
   },
   "outputs": [],
   "source": [
    "# 결측치가 있는 column을 찾는 것 \n",
    "input_data.columns[input_data.isna().any()].tolist()"
   ]
  },
  {
   "cell_type": "code",
   "execution_count": 73,
   "metadata": {
    "execution": {
     "iopub.execute_input": "2021-10-12T17:29:49.190490Z",
     "iopub.status.busy": "2021-10-12T17:29:49.190209Z",
     "iopub.status.idle": "2021-10-12T17:29:49.194641Z",
     "shell.execute_reply": "2021-10-12T17:29:49.193831Z",
     "shell.execute_reply.started": "2021-10-12T17:29:49.190462Z"
    }
   },
   "outputs": [],
   "source": [
    "# 결측치 처리 -> 다른 좋은 모델들은 결측치 처리 안하기도 함 \n",
    "input_data_base = input_data.copy() # 임시 저장 "
   ]
  },
  {
   "cell_type": "code",
   "execution_count": 75,
   "metadata": {
    "execution": {
     "iopub.execute_input": "2021-10-12T17:30:08.216531Z",
     "iopub.status.busy": "2021-10-12T17:30:08.216141Z",
     "iopub.status.idle": "2021-10-12T17:30:08.220204Z",
     "shell.execute_reply": "2021-10-12T17:30:08.219359Z",
     "shell.execute_reply.started": "2021-10-12T17:30:08.216503Z"
    }
   },
   "outputs": [],
   "source": [
    "# 결측치 처리 \n",
    "input_data = input_data.fillna(-1) # nan -> -1"
   ]
  },
  {
   "cell_type": "code",
   "execution_count": 77,
   "metadata": {
    "execution": {
     "iopub.execute_input": "2021-10-12T17:30:20.526275Z",
     "iopub.status.busy": "2021-10-12T17:30:20.525812Z",
     "iopub.status.idle": "2021-10-12T17:30:20.532903Z",
     "shell.execute_reply": "2021-10-12T17:30:20.532238Z",
     "shell.execute_reply.started": "2021-10-12T17:30:20.526246Z"
    }
   },
   "outputs": [],
   "source": [
    "# 결측치가 처리 완료 확인\n",
    "input_data.columns[input_data.isna().any()].tolist()"
   ]
  },
  {
   "cell_type": "code",
   "execution_count": 80,
   "metadata": {
    "execution": {
     "iopub.execute_input": "2021-10-12T17:31:05.514685Z",
     "iopub.status.busy": "2021-10-12T17:31:05.513819Z",
     "iopub.status.idle": "2021-10-12T17:31:05.913201Z",
     "shell.execute_reply": "2021-10-12T17:31:05.912333Z",
     "shell.execute_reply.started": "2021-10-12T17:31:05.514638Z"
    }
   },
   "outputs": [],
   "source": [
    "# 결측치 처리 완료 확인\n",
    "import missingno as msno\n",
    "msno.matrix(input_data, figsize=(15,8))"
   ]
  },
  {
   "cell_type": "markdown",
   "metadata": {},
   "source": [
    "결측치 처리는 배경지식을 토대로 값을 채워넣을 수 있다\n",
    "\n",
    "이를테면 다른 값들과 겹치지 않는 -1 값을 넣는 방법이 있다 \n",
    "\n",
    "좋은 모델 xgb, lgbm, catboost는 결측치를 알아서 처리한다 \n",
    "\n",
    "알아서 처리할 경우 -1을 넣는 것보다는 더 좋은 성능을 가지기도 한다 "
   ]
  },
  {
   "cell_type": "markdown",
   "metadata": {},
   "source": [
    "## **3. 학습 데이터 준비**\n",
    "모델 학습을 위해 필요한 세 가지 데이터 \n",
    "1. train data 학습 \n",
    "   * train data \n",
    "   * validation data, 학습 하는 도중에 실행하는 성능평가 \n",
    "2. test data 모델 성능 평가\n",
    "\n",
    "Our Total Data = 20 개 \n",
    "\n",
    "16개 -> Train -> train(12), validation(4) \n",
    "\n",
    "4개 -> test"
   ]
  },
  {
   "cell_type": "markdown",
   "metadata": {},
   "source": [
    "**Classification issue** \n",
    "분석 -> 데이터 분포가 중요함 \n",
    "\n",
    "**Classification에서 데이터의 분포를 균등하게 가공하는 것은 굉장히 중요하다!**\n"
   ]
  },
  {
   "cell_type": "code",
   "execution_count": 89,
   "metadata": {
    "execution": {
     "iopub.execute_input": "2021-10-12T17:33:54.381053Z",
     "iopub.status.busy": "2021-10-12T17:33:54.380521Z",
     "iopub.status.idle": "2021-10-12T17:33:54.388205Z",
     "shell.execute_reply": "2021-10-12T17:33:54.387348Z",
     "shell.execute_reply.started": "2021-10-12T17:33:54.380995Z"
    },
    "id": "Vv9hmOufp9ef"
   },
   "outputs": [],
   "source": [
    "# Survived 분포 확인 \n",
    "# 0 사망 549명 \n",
    "# 1 생존 342명 \n",
    "df[y_column].value_counts() # unique() + nunique() 동시 출력"
   ]
  },
  {
   "cell_type": "markdown",
   "metadata": {},
   "source": [
    "만약 최악의 경우 \n",
    "\n",
    "0 50명 사망 \n",
    "\n",
    "1 나머지 다 생존 \n",
    "\n",
    "=>model 학습이 이상해질 수 있음 "
   ]
  },
  {
   "cell_type": "code",
   "execution_count": 90,
   "metadata": {
    "execution": {
     "iopub.execute_input": "2021-10-12T17:33:56.410296Z",
     "iopub.status.busy": "2021-10-12T17:33:56.409514Z",
     "iopub.status.idle": "2021-10-12T17:33:56.419409Z",
     "shell.execute_reply": "2021-10-12T17:33:56.418694Z",
     "shell.execute_reply.started": "2021-10-12T17:33:56.410263Z"
    },
    "id": "bVn__oTZmywE"
   },
   "outputs": [],
   "source": [
    "# 데이터 -> train/valid , test\n",
    "from sklearn.model_selection import train_test_split\n",
    "\n",
    "tr_val_X, test_X, tr_val_y, test_y = train_test_split(\n",
    "    input_data[X_column], # X 입력 데이터 -> tr_val_X, test_X\n",
    "    input_data[y_column], # Y 정답 데이터 -> tr_val_y, test_y\n",
    "    test_size = 0.2,\n",
    "    #train_size = 13, \n",
    "    shuffle=True,\n",
    "    random_state=42,\n",
    "    stratify=input_data[y_column] # 분포, 모델성능에 굉장히 중요한 요소! Classification 문제에서는 필수!\n",
    ")"
   ]
  },
  {
   "cell_type": "code",
   "execution_count": 91,
   "metadata": {
    "execution": {
     "iopub.execute_input": "2021-10-12T17:33:58.514051Z",
     "iopub.status.busy": "2021-10-12T17:33:58.513138Z",
     "iopub.status.idle": "2021-10-12T17:33:58.530357Z",
     "shell.execute_reply": "2021-10-12T17:33:58.529353Z",
     "shell.execute_reply.started": "2021-10-12T17:33:58.514012Z"
    },
    "id": "swMcgOmYpUWq",
    "outputId": "ca666085-969c-4d50-f0c2-3932a33fda11"
   },
   "outputs": [],
   "source": [
    "tr_val_data = pd.concat([tr_val_X, tr_val_y], axis=1)\n",
    "tr_val_data"
   ]
  },
  {
   "cell_type": "code",
   "execution_count": 92,
   "metadata": {
    "execution": {
     "iopub.execute_input": "2021-10-12T17:34:01.071051Z",
     "iopub.status.busy": "2021-10-12T17:34:01.070315Z",
     "iopub.status.idle": "2021-10-12T17:34:01.081738Z",
     "shell.execute_reply": "2021-10-12T17:34:01.080867Z",
     "shell.execute_reply.started": "2021-10-12T17:34:01.071012Z"
    },
    "id": "VmfqmwEVpkNV"
   },
   "outputs": [],
   "source": [
    "# train / valid data로 split \n",
    "train_X, valid_X, train_y, valid_y = train_test_split(\n",
    "    tr_val_data[X_column], # X 입력 데이터 - > train_X, valid_X\n",
    "    tr_val_data[y_column], # Y 정답 데이터 -> train_y, valid_y\n",
    "    test_size = 0.2, \n",
    "    shuffle=True,\n",
    "    random_state=42,\n",
    "    stratify=tr_val_data[y_column]\n",
    ")"
   ]
  },
  {
   "cell_type": "code",
   "execution_count": 93,
   "metadata": {
    "execution": {
     "iopub.execute_input": "2021-10-12T17:34:02.955982Z",
     "iopub.status.busy": "2021-10-12T17:34:02.955451Z",
     "iopub.status.idle": "2021-10-12T17:34:02.964319Z",
     "shell.execute_reply": "2021-10-12T17:34:02.963679Z",
     "shell.execute_reply.started": "2021-10-12T17:34:02.955920Z"
    },
    "id": "RzaOZBLLpv8P",
    "outputId": "f61e43a7-165f-40e6-8af5-84a69b89d546"
   },
   "outputs": [],
   "source": [
    "print(len(train_X))\n",
    "print(len(valid_X))\n",
    "print(len(test_X))\n",
    "len(train_X) + len(valid_X) + len(test_X) # 20"
   ]
  },
  {
   "cell_type": "code",
   "execution_count": 94,
   "metadata": {
    "execution": {
     "iopub.execute_input": "2021-10-12T17:34:04.867046Z",
     "iopub.status.busy": "2021-10-12T17:34:04.866306Z",
     "iopub.status.idle": "2021-10-12T17:34:04.874674Z",
     "shell.execute_reply": "2021-10-12T17:34:04.873821Z",
     "shell.execute_reply.started": "2021-10-12T17:34:04.867012Z"
    }
   },
   "outputs": [],
   "source": [
    "train_y.value_counts() # 예측값과 실제값이 비슷함 "
   ]
  },
  {
   "cell_type": "markdown",
   "metadata": {},
   "source": [
    "## **4. 본격적인 모델 학습의 시작!**\n",
    "Decision Tree, Random Forest, XGB, CATBOOST"
   ]
  },
  {
   "cell_type": "code",
   "execution_count": 96,
   "metadata": {
    "execution": {
     "iopub.execute_input": "2021-10-12T17:34:21.907537Z",
     "iopub.status.busy": "2021-10-12T17:34:21.907276Z",
     "iopub.status.idle": "2021-10-12T17:34:22.122257Z",
     "shell.execute_reply": "2021-10-12T17:34:22.121473Z",
     "shell.execute_reply.started": "2021-10-12T17:34:21.907512Z"
    },
    "id": "E9JoOo8SqTE0",
    "outputId": "e3e86029-7def-45eb-823b-8f5b9a45c24c"
   },
   "outputs": [],
   "source": [
    "from sklearn.ensemble import RandomForestClassifier\n",
    "\n",
    "#clf = RandomForestClassifier -> clf = classification \n",
    "model_rf = RandomForestClassifier()\n",
    "model_rf.fit(train_X, train_y)"
   ]
  },
  {
   "cell_type": "code",
   "execution_count": 98,
   "metadata": {
    "execution": {
     "iopub.execute_input": "2021-10-12T17:37:15.241472Z",
     "iopub.status.busy": "2021-10-12T17:37:15.240884Z",
     "iopub.status.idle": "2021-10-12T17:37:15.258632Z",
     "shell.execute_reply": "2021-10-12T17:37:15.257798Z",
     "shell.execute_reply.started": "2021-10-12T17:37:15.241437Z"
    },
    "id": "TKcJ9W-Bqk2G",
    "outputId": "d9dcb4f9-4baf-4db4-b901-6ca2eeefb0fd"
   },
   "outputs": [],
   "source": [
    "display(test_X, test_y)"
   ]
  },
  {
   "cell_type": "code",
   "execution_count": 97,
   "metadata": {
    "execution": {
     "iopub.execute_input": "2021-10-12T17:37:05.550481Z",
     "iopub.status.busy": "2021-10-12T17:37:05.550192Z",
     "iopub.status.idle": "2021-10-12T17:37:05.558657Z",
     "shell.execute_reply": "2021-10-12T17:37:05.557562Z",
     "shell.execute_reply.started": "2021-10-12T17:37:05.550452Z"
    },
    "id": "dSQTY80UqzmF",
    "outputId": "73dec99d-b51d-4722-fb86-c273fd2b9068"
   },
   "outputs": [],
   "source": [
    "# 정답 값을 의미, 이해하기 쉽게 변수명 설정\n",
    "true_y = test_y\n",
    "true_y"
   ]
  },
  {
   "cell_type": "code",
   "execution_count": 105,
   "metadata": {
    "collapsed": true,
    "execution": {
     "iopub.execute_input": "2021-10-12T17:40:49.736113Z",
     "iopub.status.busy": "2021-10-12T17:40:49.735511Z",
     "iopub.status.idle": "2021-10-12T17:40:49.762336Z",
     "shell.execute_reply": "2021-10-12T17:40:49.761664Z",
     "shell.execute_reply.started": "2021-10-12T17:40:49.736077Z"
    },
    "id": "ectEDrH1q_4M",
    "jupyter": {
     "outputs_hidden": true
    },
    "outputId": "73df0224-b80f-47ed-81bf-07e987f55991"
   },
   "outputs": [],
   "source": [
    "# classification prediction (예측)\n",
    "pred_y_proba = model_rf.predict_proba(test_X) # column이 2차원으로 변형됨 -> 0일 확률, 1일 확률 \n",
    "#pred_y = model_rf.predict(test_X)\n",
    "pred_y_proba"
   ]
  },
  {
   "cell_type": "code",
   "execution_count": 109,
   "metadata": {
    "execution": {
     "iopub.execute_input": "2021-10-12T17:41:04.955216Z",
     "iopub.status.busy": "2021-10-12T17:41:04.954939Z",
     "iopub.status.idle": "2021-10-12T17:41:04.962005Z",
     "shell.execute_reply": "2021-10-12T17:41:04.961190Z",
     "shell.execute_reply.started": "2021-10-12T17:41:04.955185Z"
    }
   },
   "outputs": [],
   "source": [
    "pred_y = np.argmax(pred_y_proba, axis=1) # 0 과 1 중 확률이 높은 index를 추출한다\n",
    "pred_y"
   ]
  },
  {
   "cell_type": "code",
   "execution_count": 111,
   "metadata": {
    "execution": {
     "iopub.execute_input": "2021-10-12T17:41:57.721626Z",
     "iopub.status.busy": "2021-10-12T17:41:57.720903Z",
     "iopub.status.idle": "2021-10-12T17:41:57.734414Z",
     "shell.execute_reply": "2021-10-12T17:41:57.733599Z",
     "shell.execute_reply.started": "2021-10-12T17:41:57.721588Z"
    },
    "id": "NWyVeoy8rHfL",
    "outputId": "bed853ee-230f-4cbb-f67d-e2d3a4083ede"
   },
   "outputs": [],
   "source": [
    "# 정답값(true_y) 와 예측값(pred_y)를 한눈에 보기 위한 function\n",
    "df_result = pd.DataFrame(list(zip(test_y, pred_y)), columns=['true_y', 'pred_y'])\n",
    "df_result"
   ]
  },
  {
   "cell_type": "markdown",
   "metadata": {},
   "source": [
    "mse, rmse ---> regression model의 평가 방법 \n",
    "\n",
    "classification_report, confusion_matrix ----> classification의 평가 방법(모델)"
   ]
  },
  {
   "cell_type": "code",
   "execution_count": 113,
   "metadata": {
    "execution": {
     "iopub.execute_input": "2021-10-12T17:43:39.953511Z",
     "iopub.status.busy": "2021-10-12T17:43:39.952900Z",
     "iopub.status.idle": "2021-10-12T17:43:39.964178Z",
     "shell.execute_reply": "2021-10-12T17:43:39.963221Z",
     "shell.execute_reply.started": "2021-10-12T17:43:39.953470Z"
    }
   },
   "outputs": [],
   "source": [
    "from sklearn.metrics import classification_report, confusion_matrix\n",
    "\n",
    "# f1-score : precision 과 recall의 average --> 잘 예측한 정도\n",
    "# accuracy : model accuracy --> 사망 데이터를 더 잘 예측하는 것으로 보인다 => \n",
    "print(classification_report(true_y, pred_y))"
   ]
  },
  {
   "cell_type": "markdown",
   "metadata": {},
   "source": [
    "**만약, 특정 label에 대해서만 accuracy가 떨어진다면 의심해봐야 한다 ==> 학습 평가 지표**"
   ]
  },
  {
   "cell_type": "code",
   "execution_count": 116,
   "metadata": {
    "execution": {
     "iopub.execute_input": "2021-10-12T17:50:01.588317Z",
     "iopub.status.busy": "2021-10-12T17:50:01.588023Z",
     "iopub.status.idle": "2021-10-12T17:50:01.597166Z",
     "shell.execute_reply": "2021-10-12T17:50:01.595780Z",
     "shell.execute_reply.started": "2021-10-12T17:50:01.588282Z"
    }
   },
   "outputs": [],
   "source": [
    "confusion_matrix(true_y, pred_y)\n",
    "#         정답 0 정답 1 \n",
    "# 예측 0 \n",
    "# 예측 1 \n",
    "# ctrl + / : 모두 주석 처리 "
   ]
  },
  {
   "cell_type": "code",
   "execution_count": null,
   "metadata": {
    "execution": {
     "iopub.status.busy": "2021-10-12T17:33:50.330760Z",
     "iopub.status.idle": "2021-10-12T17:33:50.331069Z",
     "shell.execute_reply": "2021-10-12T17:33:50.330921Z",
     "shell.execute_reply.started": "2021-10-12T17:33:50.330900Z"
    },
    "id": "fQSzmNh-r_tu"
   },
   "outputs": [],
   "source": [
    "# 매출액 돈 예측은 \n",
    "# Regression으로 해결해야 함 \n",
    "# model 성능은 잘 맞춰서 Classification이 더 좋긴 함  \n",
    "# 그래서 Classification 문제로 변경해서 풀 수 있음 \n",
    "# 0~1000 -> 0  \n",
    "# 1001~2000 -> 1 로 바꿔서 "
   ]
  },
  {
   "cell_type": "markdown",
   "metadata": {},
   "source": [
    "## **Ex_xgboost_XGBClassifier**"
   ]
  },
  {
   "cell_type": "code",
   "execution_count": 117,
   "metadata": {
    "execution": {
     "iopub.execute_input": "2021-10-12T17:52:12.487172Z",
     "iopub.status.busy": "2021-10-12T17:52:12.486856Z",
     "iopub.status.idle": "2021-10-12T17:52:12.935220Z",
     "shell.execute_reply": "2021-10-12T17:52:12.934225Z",
     "shell.execute_reply.started": "2021-10-12T17:52:12.487138Z"
    },
    "id": "2K-MibbGr-dI"
   },
   "outputs": [],
   "source": [
    "from xgboost import XGBClassifier\n",
    "model_xgb = XGBClassifier(learning_rate=0.1)\n",
    "model_xgb.fit(train_X, train_y, eval_set=[(valid_X, valid_y)])"
   ]
  },
  {
   "cell_type": "code",
   "execution_count": 118,
   "metadata": {
    "execution": {
     "iopub.execute_input": "2021-10-12T17:52:21.111689Z",
     "iopub.status.busy": "2021-10-12T17:52:21.111368Z",
     "iopub.status.idle": "2021-10-12T17:52:21.125462Z",
     "shell.execute_reply": "2021-10-12T17:52:21.124720Z",
     "shell.execute_reply.started": "2021-10-12T17:52:21.111657Z"
    }
   },
   "outputs": [],
   "source": [
    "# classification prediction (예측)\n",
    "xgb_pred = model_xgb.predict(test_X)\n",
    "#pred_y = model_rf.predict(test_X)\n",
    "xgb_pred"
   ]
  },
  {
   "cell_type": "code",
   "execution_count": 120,
   "metadata": {
    "execution": {
     "iopub.execute_input": "2021-10-12T17:53:26.348520Z",
     "iopub.status.busy": "2021-10-12T17:53:26.348249Z",
     "iopub.status.idle": "2021-10-12T17:53:26.360672Z",
     "shell.execute_reply": "2021-10-12T17:53:26.359116Z",
     "shell.execute_reply.started": "2021-10-12T17:53:26.348493Z"
    }
   },
   "outputs": [],
   "source": [
    "print(classification_report(true_y, xgb_pred))"
   ]
  },
  {
   "cell_type": "code",
   "execution_count": 121,
   "metadata": {
    "execution": {
     "iopub.execute_input": "2021-10-12T17:55:45.823880Z",
     "iopub.status.busy": "2021-10-12T17:55:45.822890Z",
     "iopub.status.idle": "2021-10-12T17:55:45.839950Z",
     "shell.execute_reply": "2021-10-12T17:55:45.838881Z",
     "shell.execute_reply.started": "2021-10-12T17:55:45.823830Z"
    }
   },
   "outputs": [],
   "source": [
    "model_rf.feature_importances_"
   ]
  },
  {
   "cell_type": "code",
   "execution_count": 122,
   "metadata": {},
   "outputs": [],
   "source": [
    "# 중요도 순으로 자동 Sorting\n",
    "pd.Series(model_rf.feature_importances_, index=train_X.columns).sort_values(ascending=False)"
   ]
  },
  {
   "cell_type": "code",
   "execution_count": 123,
   "metadata": {
    "execution": {
     "iopub.execute_input": "2021-10-12T17:57:36.343153Z",
     "iopub.status.busy": "2021-10-12T17:57:36.342864Z",
     "iopub.status.idle": "2021-10-12T17:57:36.389602Z",
     "shell.execute_reply": "2021-10-12T17:57:36.388674Z",
     "shell.execute_reply.started": "2021-10-12T17:57:36.343123Z"
    }
   },
   "outputs": [],
   "source": [
    "# 중요도 순으로 자동 Sorting\n",
    "pd.Series(model_xgb.feature_importances_, index=train_X.columns).sort_values(ascending=False)"
   ]
  },
  {
   "cell_type": "markdown",
   "metadata": {},
   "source": [
    "RandomForst, XGB 모델을 사용하였는데 \n",
    "\n",
    "XGB 모델이 더 좋았다 -> 제일 좋은 XGB 모델을 사용하였다 -> 라는 식으로 report를 작성하면 될 것 같습니다 "
   ]
  },
  {
   "cell_type": "markdown",
   "metadata": {},
   "source": [
    "* 각 COLUMN 별 feature importance 에 대한 report...\n",
    "\n",
    "feature importance에 대해서 report를 하고 싶다면 \n",
    "\n",
    "<model_rf.feature_importances_>\n",
    "\n",
    "<pd.Series(model_rf.feature_importances_, index=train_X.columns).sort_values(ascending=False)>\n",
    "\n",
    "중요도가 낮다고 해서 빼고 학습하면 안좋으므로 가능한 많은 feature를 사용하는 것이 좋다\n",
    "\n",
    "Age에 결측치를 넣어주었으므로 Age를 가장 중요한 feature로 본 model에 대한 신뢰도는 낮을 것으로 예상된다 \n"
   ]
  }
 ],
 "metadata": {
  "kernelspec": {
   "display_name": "Python 3",
   "language": "python",
   "name": "python3"
  },
  "language_info": {
   "codemirror_mode": {
    "name": "ipython",
    "version": 3
   },
   "file_extension": ".py",
   "mimetype": "text/x-python",
   "name": "python",
   "nbconvert_exporter": "python",
   "pygments_lexer": "ipython3",
   "version": "3.8.8"
  }
 },
 "nbformat": 4,
 "nbformat_minor": 4
}
