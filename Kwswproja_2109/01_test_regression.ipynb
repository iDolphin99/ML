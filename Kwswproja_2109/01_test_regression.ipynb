{
 "cells": [
  {
   "cell_type": "markdown",
   "metadata": {
    "id": "OPdBFvMqgEGa"
   },
   "source": [
    "# **Regression**"
   ]
  },
  {
   "cell_type": "markdown",
   "metadata": {
    "id": "c0VxaM1r-GaD"
   },
   "source": [
    "## **model이 하는 역할?** \n",
    "\n",
    "data가 여러가지가 있을 때 각각을 예측하는 model을 만드는 것  \n",
    "input data -> predict data "
   ]
  },
  {
   "cell_type": "markdown",
   "metadata": {
    "id": "KlbNxSdFANLr"
   },
   "source": [
    "shift + enter : 셀 실행 "
   ]
  },
  {
   "cell_type": "markdown",
   "metadata": {
    "id": "uaCLqAV8AZ_-"
   },
   "source": [
    "## **Import Data**"
   ]
  },
  {
   "cell_type": "code",
   "execution_count": null,
   "metadata": {
    "colab": {
     "base_uri": "https://localhost:8080/"
    },
    "id": "zPXXTtRLdb1x",
    "outputId": "c848fe05-bf4d-4857-89fa-07f2a58f7db4",
    "scrolled": true
   },
   "outputs": [],
   "source": [
    "from google.colab import drive\n",
    "drive.mount('/content/gdrive')"
   ]
  },
  {
   "cell_type": "code",
   "execution_count": 78,
   "metadata": {
    "colab": {
     "base_uri": "https://localhost:8080/"
    },
    "id": "eX12ylBpgSsc",
    "outputId": "7a4e9f49-db3e-4693-d1f4-6365ea79665c"
   },
   "outputs": [
    {
     "data": {
      "text/plain": [
       "['titanic.csv', 'titanic_mini.csv']"
      ]
     },
     "execution_count": 78,
     "metadata": {},
     "output_type": "execute_result"
    }
   ],
   "source": [
    "import os\n",
    "path = \"gdrive/My Drive/Colab Notebooks/01_Test/data/\"\n",
    "os.listdir(path) # 지정한 디렉토리 내의 모든 파일과 디렉토리 list return "
   ]
  },
  {
   "cell_type": "code",
   "execution_count": 79,
   "metadata": {
    "id": "ZZnejMMkgkK4"
   },
   "outputs": [],
   "source": [
    "import pandas as pd \n",
    "import numpy as np "
   ]
  },
  {
   "cell_type": "code",
   "execution_count": 80,
   "metadata": {
    "colab": {
     "base_uri": "https://localhost:8080/",
     "height": 669
    },
    "id": "6ul4IapGg5A_",
    "outputId": "bbb495f5-c713-47f6-a64e-b25c748812f9"
   },
   "outputs": [
    {
     "data": {
      "text/html": [
       "<div>\n",
       "<style scoped>\n",
       "    .dataframe tbody tr th:only-of-type {\n",
       "        vertical-align: middle;\n",
       "    }\n",
       "\n",
       "    .dataframe tbody tr th {\n",
       "        vertical-align: top;\n",
       "    }\n",
       "\n",
       "    .dataframe thead th {\n",
       "        text-align: right;\n",
       "    }\n",
       "</style>\n",
       "<table border=\"1\" class=\"dataframe\">\n",
       "  <thead>\n",
       "    <tr style=\"text-align: right;\">\n",
       "      <th></th>\n",
       "      <th>PassengerId</th>\n",
       "      <th>Survived</th>\n",
       "      <th>Pclass</th>\n",
       "      <th>Name</th>\n",
       "      <th>Sex</th>\n",
       "      <th>Age</th>\n",
       "      <th>SibSp</th>\n",
       "      <th>Parch</th>\n",
       "      <th>Ticket</th>\n",
       "      <th>Fare</th>\n",
       "      <th>Cabin</th>\n",
       "      <th>Embarked</th>\n",
       "    </tr>\n",
       "  </thead>\n",
       "  <tbody>\n",
       "    <tr>\n",
       "      <th>0</th>\n",
       "      <td>93</td>\n",
       "      <td>0</td>\n",
       "      <td>1</td>\n",
       "      <td>Chaffee, Mr. Herbert Fuller</td>\n",
       "      <td>male</td>\n",
       "      <td>46.0</td>\n",
       "      <td>1</td>\n",
       "      <td>0</td>\n",
       "      <td>W.E.P. 5734</td>\n",
       "      <td>61.1750</td>\n",
       "      <td>E31</td>\n",
       "      <td>S</td>\n",
       "    </tr>\n",
       "    <tr>\n",
       "      <th>1</th>\n",
       "      <td>773</td>\n",
       "      <td>0</td>\n",
       "      <td>2</td>\n",
       "      <td>Mack, Mrs. (Mary)</td>\n",
       "      <td>female</td>\n",
       "      <td>57.0</td>\n",
       "      <td>0</td>\n",
       "      <td>0</td>\n",
       "      <td>S.O./P.P. 3</td>\n",
       "      <td>10.5000</td>\n",
       "      <td>E77</td>\n",
       "      <td>S</td>\n",
       "    </tr>\n",
       "    <tr>\n",
       "      <th>2</th>\n",
       "      <td>488</td>\n",
       "      <td>0</td>\n",
       "      <td>1</td>\n",
       "      <td>Kent, Mr. Edward Austin</td>\n",
       "      <td>male</td>\n",
       "      <td>58.0</td>\n",
       "      <td>0</td>\n",
       "      <td>0</td>\n",
       "      <td>11771</td>\n",
       "      <td>29.7000</td>\n",
       "      <td>B37</td>\n",
       "      <td>C</td>\n",
       "    </tr>\n",
       "    <tr>\n",
       "      <th>3</th>\n",
       "      <td>300</td>\n",
       "      <td>1</td>\n",
       "      <td>1</td>\n",
       "      <td>Baxter, Mrs. James (Helene DeLaudeniere Chaput)</td>\n",
       "      <td>female</td>\n",
       "      <td>50.0</td>\n",
       "      <td>0</td>\n",
       "      <td>1</td>\n",
       "      <td>PC 17558</td>\n",
       "      <td>247.5208</td>\n",
       "      <td>B58 B60</td>\n",
       "      <td>C</td>\n",
       "    </tr>\n",
       "    <tr>\n",
       "      <th>4</th>\n",
       "      <td>660</td>\n",
       "      <td>0</td>\n",
       "      <td>1</td>\n",
       "      <td>Newell, Mr. Arthur Webster</td>\n",
       "      <td>male</td>\n",
       "      <td>58.0</td>\n",
       "      <td>0</td>\n",
       "      <td>2</td>\n",
       "      <td>35273</td>\n",
       "      <td>113.2750</td>\n",
       "      <td>D48</td>\n",
       "      <td>C</td>\n",
       "    </tr>\n",
       "    <tr>\n",
       "      <th>5</th>\n",
       "      <td>2</td>\n",
       "      <td>1</td>\n",
       "      <td>1</td>\n",
       "      <td>Cumings, Mrs. John Bradley (Florence Briggs Th...</td>\n",
       "      <td>female</td>\n",
       "      <td>38.0</td>\n",
       "      <td>1</td>\n",
       "      <td>0</td>\n",
       "      <td>PC 17599</td>\n",
       "      <td>71.2833</td>\n",
       "      <td>C85</td>\n",
       "      <td>C</td>\n",
       "    </tr>\n",
       "    <tr>\n",
       "      <th>6</th>\n",
       "      <td>22</td>\n",
       "      <td>1</td>\n",
       "      <td>2</td>\n",
       "      <td>Beesley, Mr. Lawrence</td>\n",
       "      <td>male</td>\n",
       "      <td>34.0</td>\n",
       "      <td>0</td>\n",
       "      <td>0</td>\n",
       "      <td>248698</td>\n",
       "      <td>13.0000</td>\n",
       "      <td>D56</td>\n",
       "      <td>S</td>\n",
       "    </tr>\n",
       "    <tr>\n",
       "      <th>7</th>\n",
       "      <td>453</td>\n",
       "      <td>0</td>\n",
       "      <td>1</td>\n",
       "      <td>Foreman, Mr. Benjamin Laventall</td>\n",
       "      <td>male</td>\n",
       "      <td>30.0</td>\n",
       "      <td>0</td>\n",
       "      <td>0</td>\n",
       "      <td>113051</td>\n",
       "      <td>27.7500</td>\n",
       "      <td>C111</td>\n",
       "      <td>C</td>\n",
       "    </tr>\n",
       "    <tr>\n",
       "      <th>8</th>\n",
       "      <td>663</td>\n",
       "      <td>0</td>\n",
       "      <td>1</td>\n",
       "      <td>Colley, Mr. Edward Pomeroy</td>\n",
       "      <td>male</td>\n",
       "      <td>47.0</td>\n",
       "      <td>0</td>\n",
       "      <td>0</td>\n",
       "      <td>5727</td>\n",
       "      <td>25.5875</td>\n",
       "      <td>E58</td>\n",
       "      <td>S</td>\n",
       "    </tr>\n",
       "    <tr>\n",
       "      <th>9</th>\n",
       "      <td>7</td>\n",
       "      <td>0</td>\n",
       "      <td>1</td>\n",
       "      <td>McCarthy, Mr. Timothy J</td>\n",
       "      <td>male</td>\n",
       "      <td>54.0</td>\n",
       "      <td>0</td>\n",
       "      <td>0</td>\n",
       "      <td>17463</td>\n",
       "      <td>51.8625</td>\n",
       "      <td>E46</td>\n",
       "      <td>S</td>\n",
       "    </tr>\n",
       "    <tr>\n",
       "      <th>10</th>\n",
       "      <td>219</td>\n",
       "      <td>1</td>\n",
       "      <td>1</td>\n",
       "      <td>Bazzani, Miss. Albina</td>\n",
       "      <td>female</td>\n",
       "      <td>32.0</td>\n",
       "      <td>0</td>\n",
       "      <td>0</td>\n",
       "      <td>11813</td>\n",
       "      <td>76.2917</td>\n",
       "      <td>D15</td>\n",
       "      <td>C</td>\n",
       "    </tr>\n",
       "    <tr>\n",
       "      <th>11</th>\n",
       "      <td>716</td>\n",
       "      <td>0</td>\n",
       "      <td>3</td>\n",
       "      <td>Soholt, Mr. Peter Andreas Lauritz Andersen</td>\n",
       "      <td>male</td>\n",
       "      <td>19.0</td>\n",
       "      <td>0</td>\n",
       "      <td>0</td>\n",
       "      <td>348124</td>\n",
       "      <td>7.6500</td>\n",
       "      <td>F G73</td>\n",
       "      <td>S</td>\n",
       "    </tr>\n",
       "    <tr>\n",
       "      <th>12</th>\n",
       "      <td>140</td>\n",
       "      <td>0</td>\n",
       "      <td>1</td>\n",
       "      <td>Giglio, Mr. Victor</td>\n",
       "      <td>male</td>\n",
       "      <td>24.0</td>\n",
       "      <td>0</td>\n",
       "      <td>0</td>\n",
       "      <td>PC 17593</td>\n",
       "      <td>79.2000</td>\n",
       "      <td>B86</td>\n",
       "      <td>C</td>\n",
       "    </tr>\n",
       "    <tr>\n",
       "      <th>13</th>\n",
       "      <td>807</td>\n",
       "      <td>0</td>\n",
       "      <td>1</td>\n",
       "      <td>Andrews, Mr. Thomas Jr</td>\n",
       "      <td>male</td>\n",
       "      <td>39.0</td>\n",
       "      <td>0</td>\n",
       "      <td>0</td>\n",
       "      <td>112050</td>\n",
       "      <td>0.0000</td>\n",
       "      <td>A36</td>\n",
       "      <td>S</td>\n",
       "    </tr>\n",
       "    <tr>\n",
       "      <th>14</th>\n",
       "      <td>699</td>\n",
       "      <td>0</td>\n",
       "      <td>1</td>\n",
       "      <td>Thayer, Mr. John Borland</td>\n",
       "      <td>male</td>\n",
       "      <td>49.0</td>\n",
       "      <td>1</td>\n",
       "      <td>1</td>\n",
       "      <td>17421</td>\n",
       "      <td>110.8833</td>\n",
       "      <td>C68</td>\n",
       "      <td>C</td>\n",
       "    </tr>\n",
       "    <tr>\n",
       "      <th>15</th>\n",
       "      <td>149</td>\n",
       "      <td>0</td>\n",
       "      <td>2</td>\n",
       "      <td>Navratil, Mr. Michel (\"Louis M Hoffman\")</td>\n",
       "      <td>male</td>\n",
       "      <td>36.5</td>\n",
       "      <td>0</td>\n",
       "      <td>2</td>\n",
       "      <td>230080</td>\n",
       "      <td>26.0000</td>\n",
       "      <td>F2</td>\n",
       "      <td>S</td>\n",
       "    </tr>\n",
       "    <tr>\n",
       "      <th>16</th>\n",
       "      <td>269</td>\n",
       "      <td>1</td>\n",
       "      <td>1</td>\n",
       "      <td>Graham, Mrs. William Thompson (Edith Junkins)</td>\n",
       "      <td>female</td>\n",
       "      <td>58.0</td>\n",
       "      <td>0</td>\n",
       "      <td>1</td>\n",
       "      <td>PC 17582</td>\n",
       "      <td>153.4625</td>\n",
       "      <td>C125</td>\n",
       "      <td>S</td>\n",
       "    </tr>\n",
       "    <tr>\n",
       "      <th>17</th>\n",
       "      <td>67</td>\n",
       "      <td>1</td>\n",
       "      <td>2</td>\n",
       "      <td>Nye, Mrs. (Elizabeth Ramell)</td>\n",
       "      <td>female</td>\n",
       "      <td>29.0</td>\n",
       "      <td>0</td>\n",
       "      <td>0</td>\n",
       "      <td>C.A. 29395</td>\n",
       "      <td>10.5000</td>\n",
       "      <td>F33</td>\n",
       "      <td>S</td>\n",
       "    </tr>\n",
       "    <tr>\n",
       "      <th>18</th>\n",
       "      <td>435</td>\n",
       "      <td>0</td>\n",
       "      <td>1</td>\n",
       "      <td>Silvey, Mr. William Baird</td>\n",
       "      <td>male</td>\n",
       "      <td>50.0</td>\n",
       "      <td>1</td>\n",
       "      <td>0</td>\n",
       "      <td>13507</td>\n",
       "      <td>55.9000</td>\n",
       "      <td>E44</td>\n",
       "      <td>S</td>\n",
       "    </tr>\n",
       "    <tr>\n",
       "      <th>19</th>\n",
       "      <td>98</td>\n",
       "      <td>1</td>\n",
       "      <td>1</td>\n",
       "      <td>Greenfield, Mr. William Bertram</td>\n",
       "      <td>male</td>\n",
       "      <td>23.0</td>\n",
       "      <td>0</td>\n",
       "      <td>1</td>\n",
       "      <td>PC 17759</td>\n",
       "      <td>63.3583</td>\n",
       "      <td>D10 D12</td>\n",
       "      <td>C</td>\n",
       "    </tr>\n",
       "  </tbody>\n",
       "</table>\n",
       "</div>"
      ],
      "text/plain": [
       "    PassengerId  Survived  Pclass  ...      Fare    Cabin  Embarked\n",
       "0            93         0       1  ...   61.1750      E31         S\n",
       "1           773         0       2  ...   10.5000      E77         S\n",
       "2           488         0       1  ...   29.7000      B37         C\n",
       "3           300         1       1  ...  247.5208  B58 B60         C\n",
       "4           660         0       1  ...  113.2750      D48         C\n",
       "5             2         1       1  ...   71.2833      C85         C\n",
       "6            22         1       2  ...   13.0000      D56         S\n",
       "7           453         0       1  ...   27.7500     C111         C\n",
       "8           663         0       1  ...   25.5875      E58         S\n",
       "9             7         0       1  ...   51.8625      E46         S\n",
       "10          219         1       1  ...   76.2917      D15         C\n",
       "11          716         0       3  ...    7.6500    F G73         S\n",
       "12          140         0       1  ...   79.2000      B86         C\n",
       "13          807         0       1  ...    0.0000      A36         S\n",
       "14          699         0       1  ...  110.8833      C68         C\n",
       "15          149         0       2  ...   26.0000       F2         S\n",
       "16          269         1       1  ...  153.4625     C125         S\n",
       "17           67         1       2  ...   10.5000      F33         S\n",
       "18          435         0       1  ...   55.9000      E44         S\n",
       "19           98         1       1  ...   63.3583  D10 D12         C\n",
       "\n",
       "[20 rows x 12 columns]"
      ]
     },
     "execution_count": 80,
     "metadata": {},
     "output_type": "execute_result"
    }
   ],
   "source": [
    "df = pd.read_csv(path + \"titanic_mini.csv\")\n",
    "df"
   ]
  },
  {
   "cell_type": "markdown",
   "metadata": {
    "id": "dpYre7ceTNE2"
   },
   "source": [
    "좋은 모델을 만드는 것도 중요하지만 전체 과정이 잘 돌아가는지를 확인하는 것이 우선이기에  \n",
    "적은 양의 데이터로 빠르고 간단하게 과정을 거치는 것도 중요하다! "
   ]
  },
  {
   "cell_type": "markdown",
   "metadata": {
    "id": "OTJ-UX2BEF6p"
   },
   "source": [
    "## **1. 모델에 사용할 컬럼(column, feature) 결정**"
   ]
  },
  {
   "cell_type": "code",
   "execution_count": null,
   "metadata": {
    "colab": {
     "base_uri": "https://localhost:8080/"
    },
    "id": "kdquyw0VjGno",
    "outputId": "0a3d6cd5-fbe1-47d6-efca-5400c1ee6227",
    "scrolled": true
   },
   "outputs": [],
   "source": [
    "len(df)"
   ]
  },
  {
   "cell_type": "code",
   "execution_count": 82,
   "metadata": {
    "colab": {
     "base_uri": "https://localhost:8080/"
    },
    "id": "twAJ5nEhEOx2",
    "outputId": "724643bc-510d-456a-e652-77a1fdb3d299"
   },
   "outputs": [
    {
     "data": {
      "text/plain": [
       "Index(['PassengerId', 'Survived', 'Pclass', 'Name', 'Sex', 'Age', 'SibSp',\n",
       "       'Parch', 'Ticket', 'Fare', 'Cabin', 'Embarked'],\n",
       "      dtype='object')"
      ]
     },
     "execution_count": 82,
     "metadata": {},
     "output_type": "execute_result"
    }
   ],
   "source": [
    "df.columns"
   ]
  },
  {
   "cell_type": "markdown",
   "metadata": {
    "id": "RLx9uTLFEX9E"
   },
   "source": [
    "### **Naming convention issue!** \n",
    "X 대문자 -> 모델 입력 컬럼은 여러개라는 의미에서 대문자 X를 쓴다  \n",
    "y 소문자 -> 기본 소문자 train_y 형태로 쓴다"
   ]
  },
  {
   "cell_type": "markdown",
   "metadata": {
    "id": "IZbPm6TKFHCT"
   },
   "source": [
    "X_column : model input data  \n",
    "y_column : model predict data"
   ]
  },
  {
   "cell_type": "code",
   "execution_count": 83,
   "metadata": {
    "id": "KFSPGvljjL0e"
   },
   "outputs": [],
   "source": [
    "X_column = ['PassengerId', 'Survived', 'Pclass', 'Name', 'Sex', 'SibSp',\n",
    "       'Parch', 'Ticket', 'Fare', 'Cabin', 'Embarked']\n",
    "y_column = 'Age'"
   ]
  },
  {
   "cell_type": "markdown",
   "metadata": {
    "id": "ooEHP6gdIJ2P"
   },
   "source": [
    "사용가능한 데이터를 select 하는 과정을 거칠 것이다"
   ]
  },
  {
   "cell_type": "code",
   "execution_count": 84,
   "metadata": {
    "colab": {
     "base_uri": "https://localhost:8080/"
    },
    "id": "Bn0TqSo0j8j_",
    "outputId": "39393e52-7734-4ac5-e76f-8f336b58eade"
   },
   "outputs": [
    {
     "name": "stdout",
     "output_type": "stream",
     "text": [
      "[0 1]\n",
      "2\n"
     ]
    }
   ],
   "source": [
    "print(df['Survived'].unique())\n",
    "print(df['Survived'].nunique())"
   ]
  },
  {
   "cell_type": "markdown",
   "metadata": {
    "id": "gnBkotiRkNcN"
   },
   "source": [
    "Survieved=0 고령층 -> Age = 나이 높게 예측 \n",
    "\n",
    "Survieved=1 젋은 사람 -> Age = 나이 젊게 예측 \n",
    "\n",
    "data의 분포를 그릴 수 있는 적절한 개수(attribute)라면 사용이 가능하다 \n",
    "\n",
    "**i.e. 데이터 전체 개수 = Unique한 종류 개수 ----> 모델 학습에 도움이 되지 않음, 삭제!**"
   ]
  },
  {
   "cell_type": "code",
   "execution_count": 85,
   "metadata": {
    "colab": {
     "base_uri": "https://localhost:8080/"
    },
    "id": "X7C_643-HCgF",
    "outputId": "24c7c9ab-ebcf-4bcc-ec02-d6593145f0dd"
   },
   "outputs": [
    {
     "name": "stdout",
     "output_type": "stream",
     "text": [
      "[ 61.175   10.5     29.7    247.5208 113.275   71.2833  13.      27.75\n",
      "  25.5875  51.8625  76.2917   7.65    79.2      0.     110.8833  26.\n",
      " 153.4625  55.9     63.3583]\n",
      "19\n"
     ]
    }
   ],
   "source": [
    "print(df['Fare'].unique())\n",
    "print(df['Fare'].nunique())"
   ]
  },
  {
   "cell_type": "markdown",
   "metadata": {
    "id": "KGNrgHkrFXjv"
   },
   "source": [
    "*   PassengerId : 20, data 전체 개수와 같음, 구분에 의미가 없다 -----> **단항분포 Uniform Distribution**\n",
    "*   Name : 모든 승객의 이름이 다름, NLP에서는 도움이 되도록 사용할 수 있긴 하다..\n",
    "*   Fare : Biased, 너무 치우친 값 -----> **정규분포, 다항분포일때 학습이 잘 된다!** "
   ]
  },
  {
   "cell_type": "code",
   "execution_count": 86,
   "metadata": {
    "id": "vN_cnHejIYY6"
   },
   "outputs": [],
   "source": [
    "X_column = ['Survived', 'Pclass', 'Sex', 'SibSp',\n",
    "       'Parch', 'Embarked']\n",
    "y_column = 'Age'"
   ]
  },
  {
   "cell_type": "markdown",
   "metadata": {
    "id": "mBVCFVMTIg9j"
   },
   "source": [
    "최종적으로 모델에 사용할 컬럼 (column, featrue)를 결정한다 "
   ]
  },
  {
   "cell_type": "code",
   "execution_count": 87,
   "metadata": {
    "colab": {
     "base_uri": "https://localhost:8080/",
     "height": 0
    },
    "id": "Hf0CoX4IlaQK",
    "outputId": "ef647a51-2978-42ae-c422-2580bb4a3d86"
   },
   "outputs": [
    {
     "data": {
      "text/html": [
       "<div>\n",
       "<style scoped>\n",
       "    .dataframe tbody tr th:only-of-type {\n",
       "        vertical-align: middle;\n",
       "    }\n",
       "\n",
       "    .dataframe tbody tr th {\n",
       "        vertical-align: top;\n",
       "    }\n",
       "\n",
       "    .dataframe thead th {\n",
       "        text-align: right;\n",
       "    }\n",
       "</style>\n",
       "<table border=\"1\" class=\"dataframe\">\n",
       "  <thead>\n",
       "    <tr style=\"text-align: right;\">\n",
       "      <th></th>\n",
       "      <th>Survived</th>\n",
       "      <th>Pclass</th>\n",
       "      <th>Sex</th>\n",
       "      <th>SibSp</th>\n",
       "      <th>Parch</th>\n",
       "      <th>Embarked</th>\n",
       "      <th>Age</th>\n",
       "    </tr>\n",
       "  </thead>\n",
       "  <tbody>\n",
       "    <tr>\n",
       "      <th>0</th>\n",
       "      <td>0</td>\n",
       "      <td>1</td>\n",
       "      <td>male</td>\n",
       "      <td>1</td>\n",
       "      <td>0</td>\n",
       "      <td>S</td>\n",
       "      <td>46.0</td>\n",
       "    </tr>\n",
       "    <tr>\n",
       "      <th>1</th>\n",
       "      <td>0</td>\n",
       "      <td>2</td>\n",
       "      <td>female</td>\n",
       "      <td>0</td>\n",
       "      <td>0</td>\n",
       "      <td>S</td>\n",
       "      <td>57.0</td>\n",
       "    </tr>\n",
       "    <tr>\n",
       "      <th>2</th>\n",
       "      <td>0</td>\n",
       "      <td>1</td>\n",
       "      <td>male</td>\n",
       "      <td>0</td>\n",
       "      <td>0</td>\n",
       "      <td>C</td>\n",
       "      <td>58.0</td>\n",
       "    </tr>\n",
       "    <tr>\n",
       "      <th>3</th>\n",
       "      <td>1</td>\n",
       "      <td>1</td>\n",
       "      <td>female</td>\n",
       "      <td>0</td>\n",
       "      <td>1</td>\n",
       "      <td>C</td>\n",
       "      <td>50.0</td>\n",
       "    </tr>\n",
       "    <tr>\n",
       "      <th>4</th>\n",
       "      <td>0</td>\n",
       "      <td>1</td>\n",
       "      <td>male</td>\n",
       "      <td>0</td>\n",
       "      <td>2</td>\n",
       "      <td>C</td>\n",
       "      <td>58.0</td>\n",
       "    </tr>\n",
       "    <tr>\n",
       "      <th>5</th>\n",
       "      <td>1</td>\n",
       "      <td>1</td>\n",
       "      <td>female</td>\n",
       "      <td>1</td>\n",
       "      <td>0</td>\n",
       "      <td>C</td>\n",
       "      <td>38.0</td>\n",
       "    </tr>\n",
       "    <tr>\n",
       "      <th>6</th>\n",
       "      <td>1</td>\n",
       "      <td>2</td>\n",
       "      <td>male</td>\n",
       "      <td>0</td>\n",
       "      <td>0</td>\n",
       "      <td>S</td>\n",
       "      <td>34.0</td>\n",
       "    </tr>\n",
       "    <tr>\n",
       "      <th>7</th>\n",
       "      <td>0</td>\n",
       "      <td>1</td>\n",
       "      <td>male</td>\n",
       "      <td>0</td>\n",
       "      <td>0</td>\n",
       "      <td>C</td>\n",
       "      <td>30.0</td>\n",
       "    </tr>\n",
       "    <tr>\n",
       "      <th>8</th>\n",
       "      <td>0</td>\n",
       "      <td>1</td>\n",
       "      <td>male</td>\n",
       "      <td>0</td>\n",
       "      <td>0</td>\n",
       "      <td>S</td>\n",
       "      <td>47.0</td>\n",
       "    </tr>\n",
       "    <tr>\n",
       "      <th>9</th>\n",
       "      <td>0</td>\n",
       "      <td>1</td>\n",
       "      <td>male</td>\n",
       "      <td>0</td>\n",
       "      <td>0</td>\n",
       "      <td>S</td>\n",
       "      <td>54.0</td>\n",
       "    </tr>\n",
       "    <tr>\n",
       "      <th>10</th>\n",
       "      <td>1</td>\n",
       "      <td>1</td>\n",
       "      <td>female</td>\n",
       "      <td>0</td>\n",
       "      <td>0</td>\n",
       "      <td>C</td>\n",
       "      <td>32.0</td>\n",
       "    </tr>\n",
       "    <tr>\n",
       "      <th>11</th>\n",
       "      <td>0</td>\n",
       "      <td>3</td>\n",
       "      <td>male</td>\n",
       "      <td>0</td>\n",
       "      <td>0</td>\n",
       "      <td>S</td>\n",
       "      <td>19.0</td>\n",
       "    </tr>\n",
       "    <tr>\n",
       "      <th>12</th>\n",
       "      <td>0</td>\n",
       "      <td>1</td>\n",
       "      <td>male</td>\n",
       "      <td>0</td>\n",
       "      <td>0</td>\n",
       "      <td>C</td>\n",
       "      <td>24.0</td>\n",
       "    </tr>\n",
       "    <tr>\n",
       "      <th>13</th>\n",
       "      <td>0</td>\n",
       "      <td>1</td>\n",
       "      <td>male</td>\n",
       "      <td>0</td>\n",
       "      <td>0</td>\n",
       "      <td>S</td>\n",
       "      <td>39.0</td>\n",
       "    </tr>\n",
       "    <tr>\n",
       "      <th>14</th>\n",
       "      <td>0</td>\n",
       "      <td>1</td>\n",
       "      <td>male</td>\n",
       "      <td>1</td>\n",
       "      <td>1</td>\n",
       "      <td>C</td>\n",
       "      <td>49.0</td>\n",
       "    </tr>\n",
       "    <tr>\n",
       "      <th>15</th>\n",
       "      <td>0</td>\n",
       "      <td>2</td>\n",
       "      <td>male</td>\n",
       "      <td>0</td>\n",
       "      <td>2</td>\n",
       "      <td>S</td>\n",
       "      <td>36.5</td>\n",
       "    </tr>\n",
       "    <tr>\n",
       "      <th>16</th>\n",
       "      <td>1</td>\n",
       "      <td>1</td>\n",
       "      <td>female</td>\n",
       "      <td>0</td>\n",
       "      <td>1</td>\n",
       "      <td>S</td>\n",
       "      <td>58.0</td>\n",
       "    </tr>\n",
       "    <tr>\n",
       "      <th>17</th>\n",
       "      <td>1</td>\n",
       "      <td>2</td>\n",
       "      <td>female</td>\n",
       "      <td>0</td>\n",
       "      <td>0</td>\n",
       "      <td>S</td>\n",
       "      <td>29.0</td>\n",
       "    </tr>\n",
       "    <tr>\n",
       "      <th>18</th>\n",
       "      <td>0</td>\n",
       "      <td>1</td>\n",
       "      <td>male</td>\n",
       "      <td>1</td>\n",
       "      <td>0</td>\n",
       "      <td>S</td>\n",
       "      <td>50.0</td>\n",
       "    </tr>\n",
       "    <tr>\n",
       "      <th>19</th>\n",
       "      <td>1</td>\n",
       "      <td>1</td>\n",
       "      <td>male</td>\n",
       "      <td>0</td>\n",
       "      <td>1</td>\n",
       "      <td>C</td>\n",
       "      <td>23.0</td>\n",
       "    </tr>\n",
       "  </tbody>\n",
       "</table>\n",
       "</div>"
      ],
      "text/plain": [
       "    Survived  Pclass     Sex  SibSp  Parch Embarked   Age\n",
       "0          0       1    male      1      0        S  46.0\n",
       "1          0       2  female      0      0        S  57.0\n",
       "2          0       1    male      0      0        C  58.0\n",
       "3          1       1  female      0      1        C  50.0\n",
       "4          0       1    male      0      2        C  58.0\n",
       "5          1       1  female      1      0        C  38.0\n",
       "6          1       2    male      0      0        S  34.0\n",
       "7          0       1    male      0      0        C  30.0\n",
       "8          0       1    male      0      0        S  47.0\n",
       "9          0       1    male      0      0        S  54.0\n",
       "10         1       1  female      0      0        C  32.0\n",
       "11         0       3    male      0      0        S  19.0\n",
       "12         0       1    male      0      0        C  24.0\n",
       "13         0       1    male      0      0        S  39.0\n",
       "14         0       1    male      1      1        C  49.0\n",
       "15         0       2    male      0      2        S  36.5\n",
       "16         1       1  female      0      1        S  58.0\n",
       "17         1       2  female      0      0        S  29.0\n",
       "18         0       1    male      1      0        S  50.0\n",
       "19         1       1    male      0      1        C  23.0"
      ]
     },
     "execution_count": 87,
     "metadata": {},
     "output_type": "execute_result"
    }
   ],
   "source": [
    "# y_column은 scalar 형태 -> [], convert list \n",
    "# copy() -> Memory, df data에 손상을 주지 않기 위해서\n",
    "input_data = df[X_column + [y_column]].copy()  \n",
    "input_data"
   ]
  },
  {
   "cell_type": "markdown",
   "metadata": {
    "id": "P0oYjoOKJTxy"
   },
   "source": [
    "## **2. 모델에 입력할 데이터 타입 변환**\n",
    " numeric value 숫자만 가능하다, int, float"
   ]
  },
  {
   "cell_type": "code",
   "execution_count": 88,
   "metadata": {
    "colab": {
     "base_uri": "https://localhost:8080/"
    },
    "id": "UejIFVYWl0ip",
    "outputId": "6bdfc110-17dd-41cf-e21a-98cdd7109250"
   },
   "outputs": [
    {
     "data": {
      "text/plain": [
       "Survived      int64\n",
       "Pclass        int64\n",
       "Sex          object\n",
       "SibSp         int64\n",
       "Parch         int64\n",
       "Embarked     object\n",
       "Age         float64\n",
       "dtype: object"
      ]
     },
     "execution_count": 88,
     "metadata": {},
     "output_type": "execute_result"
    }
   ],
   "source": [
    "input_data.dtypes "
   ]
  },
  {
   "cell_type": "code",
   "execution_count": 89,
   "metadata": {
    "colab": {
     "base_uri": "https://localhost:8080/"
    },
    "id": "tiWJeKCImA3a",
    "outputId": "0d8f388d-6bcc-4371-f73c-86e6e45f3095"
   },
   "outputs": [
    {
     "data": {
      "text/plain": [
       "0     1\n",
       "1     0\n",
       "2     1\n",
       "3     0\n",
       "4     1\n",
       "5     0\n",
       "6     1\n",
       "7     1\n",
       "8     1\n",
       "9     1\n",
       "10    0\n",
       "11    1\n",
       "12    1\n",
       "13    1\n",
       "14    1\n",
       "15    1\n",
       "16    0\n",
       "17    0\n",
       "18    1\n",
       "19    1\n",
       "Name: Sex, dtype: int64"
      ]
     },
     "execution_count": 89,
     "metadata": {},
     "output_type": "execute_result"
    }
   ],
   "source": [
    "input_data['Sex'] = input_data['Sex'].replace({'female' : 0, 'male' : 1})\n",
    "input_data['Sex']"
   ]
  },
  {
   "cell_type": "code",
   "execution_count": 90,
   "metadata": {
    "colab": {
     "base_uri": "https://localhost:8080/"
    },
    "id": "uhLgWErYKNHO",
    "outputId": "d83c42aa-f60d-4f14-eaf7-3d156401ec18"
   },
   "outputs": [
    {
     "data": {
      "text/plain": [
       "<bound method Series.unique of 0     S\n",
       "1     S\n",
       "2     C\n",
       "3     C\n",
       "4     C\n",
       "5     C\n",
       "6     S\n",
       "7     C\n",
       "8     S\n",
       "9     S\n",
       "10    C\n",
       "11    S\n",
       "12    C\n",
       "13    S\n",
       "14    C\n",
       "15    S\n",
       "16    S\n",
       "17    S\n",
       "18    S\n",
       "19    C\n",
       "Name: Embarked, dtype: object>"
      ]
     },
     "execution_count": 90,
     "metadata": {},
     "output_type": "execute_result"
    }
   ],
   "source": [
    "input_data['Embarked'].unique"
   ]
  },
  {
   "cell_type": "code",
   "execution_count": 91,
   "metadata": {
    "colab": {
     "base_uri": "https://localhost:8080/"
    },
    "id": "oR1daBkCmetm",
    "outputId": "813eadef-031c-467b-e02f-c8b515d71762"
   },
   "outputs": [
    {
     "data": {
      "text/plain": [
       "0     0\n",
       "1     0\n",
       "2     1\n",
       "3     1\n",
       "4     1\n",
       "5     1\n",
       "6     0\n",
       "7     1\n",
       "8     0\n",
       "9     0\n",
       "10    1\n",
       "11    0\n",
       "12    1\n",
       "13    0\n",
       "14    1\n",
       "15    0\n",
       "16    0\n",
       "17    0\n",
       "18    0\n",
       "19    1\n",
       "Name: Embarked, dtype: int64"
      ]
     },
     "execution_count": 91,
     "metadata": {},
     "output_type": "execute_result"
    }
   ],
   "source": [
    "input_data['Embarked'] = input_data['Embarked'].replace({'S' : 0, 'C' : 1})\n",
    "input_data['Embarked']"
   ]
  },
  {
   "cell_type": "code",
   "execution_count": 92,
   "metadata": {
    "colab": {
     "base_uri": "https://localhost:8080/"
    },
    "id": "j3famiv5msmU",
    "outputId": "758a249a-8275-4e18-da30-f6c0ba9151bf"
   },
   "outputs": [
    {
     "data": {
      "text/plain": [
       "Survived      int64\n",
       "Pclass        int64\n",
       "Sex           int64\n",
       "SibSp         int64\n",
       "Parch         int64\n",
       "Embarked      int64\n",
       "Age         float64\n",
       "dtype: object"
      ]
     },
     "execution_count": 92,
     "metadata": {},
     "output_type": "execute_result"
    }
   ],
   "source": [
    "input_data.dtypes"
   ]
  },
  {
   "cell_type": "markdown",
   "metadata": {
    "id": "GQheuel7KZFA"
   },
   "source": [
    "## **3. 학습 데이터 준비**\n",
    "모델 학습을 위해 필요한 세 가지 데이터 \n",
    "1. train data 학습 \n",
    "   * train data \n",
    "   * validation data, 학습 하는 도중에 실행하는 성능평가 \n",
    "2. test data 모델 성능 평가\n",
    "\n",
    "Our Total Data = 20 개 \n",
    "\n",
    "16개 -> Train -> train(12), validation(4) \n",
    "\n",
    "4개 -> test"
   ]
  },
  {
   "cell_type": "code",
   "execution_count": 97,
   "metadata": {
    "id": "bVn__oTZmywE"
   },
   "outputs": [],
   "source": [
    "# 데이터 -> train/valid , test\n",
    "from sklearn.model_selection import train_test_split\n",
    "\n",
    "tr_val_X, test_X, tr_val_y, test_y = train_test_split(\n",
    "    input_data[X_column], # X 입력 데이터 -> tr_val_X, test_X\n",
    "    input_data[y_column], # y 정답 데이터 -> tr_val_y, test_y\n",
    "    test_size = 0.2,      # 80% / 20% 보통은 8:2, 7.5:2.5 (conventional)\n",
    "    #train_size = 13,       개수를 명시적으로 작성\n",
    "    shuffle=True,         # 랜덤하게 섞어서 split\n",
    "    random_state=42)      # 실험할 때마다 값이 바뀌므로 seed 값을 고정하면 항상 동일한 방식으로 sampling가능 "
   ]
  },
  {
   "cell_type": "markdown",
   "metadata": {
    "id": "Vn8psTVCTBJU"
   },
   "source": [
    "많은 양의 data라면 train_size = 30 정도로 train에 대한 성능 먼저 체크해볼 수 있다 "
   ]
  },
  {
   "cell_type": "code",
   "execution_count": 94,
   "metadata": {
    "colab": {
     "base_uri": "https://localhost:8080/",
     "height": 545
    },
    "id": "swMcgOmYpUWq",
    "outputId": "4eb3aacb-c102-498c-b51e-5bbaf1c8932b"
   },
   "outputs": [
    {
     "data": {
      "text/html": [
       "<div>\n",
       "<style scoped>\n",
       "    .dataframe tbody tr th:only-of-type {\n",
       "        vertical-align: middle;\n",
       "    }\n",
       "\n",
       "    .dataframe tbody tr th {\n",
       "        vertical-align: top;\n",
       "    }\n",
       "\n",
       "    .dataframe thead th {\n",
       "        text-align: right;\n",
       "    }\n",
       "</style>\n",
       "<table border=\"1\" class=\"dataframe\">\n",
       "  <thead>\n",
       "    <tr style=\"text-align: right;\">\n",
       "      <th></th>\n",
       "      <th>Survived</th>\n",
       "      <th>Pclass</th>\n",
       "      <th>Sex</th>\n",
       "      <th>SibSp</th>\n",
       "      <th>Parch</th>\n",
       "      <th>Embarked</th>\n",
       "      <th>Age</th>\n",
       "    </tr>\n",
       "  </thead>\n",
       "  <tbody>\n",
       "    <tr>\n",
       "      <th>8</th>\n",
       "      <td>0</td>\n",
       "      <td>1</td>\n",
       "      <td>1</td>\n",
       "      <td>0</td>\n",
       "      <td>0</td>\n",
       "      <td>0</td>\n",
       "      <td>47.0</td>\n",
       "    </tr>\n",
       "    <tr>\n",
       "      <th>5</th>\n",
       "      <td>1</td>\n",
       "      <td>1</td>\n",
       "      <td>0</td>\n",
       "      <td>1</td>\n",
       "      <td>0</td>\n",
       "      <td>1</td>\n",
       "      <td>38.0</td>\n",
       "    </tr>\n",
       "    <tr>\n",
       "      <th>11</th>\n",
       "      <td>0</td>\n",
       "      <td>3</td>\n",
       "      <td>1</td>\n",
       "      <td>0</td>\n",
       "      <td>0</td>\n",
       "      <td>0</td>\n",
       "      <td>19.0</td>\n",
       "    </tr>\n",
       "    <tr>\n",
       "      <th>3</th>\n",
       "      <td>1</td>\n",
       "      <td>1</td>\n",
       "      <td>0</td>\n",
       "      <td>0</td>\n",
       "      <td>1</td>\n",
       "      <td>1</td>\n",
       "      <td>50.0</td>\n",
       "    </tr>\n",
       "    <tr>\n",
       "      <th>18</th>\n",
       "      <td>0</td>\n",
       "      <td>1</td>\n",
       "      <td>1</td>\n",
       "      <td>1</td>\n",
       "      <td>0</td>\n",
       "      <td>0</td>\n",
       "      <td>50.0</td>\n",
       "    </tr>\n",
       "    <tr>\n",
       "      <th>16</th>\n",
       "      <td>1</td>\n",
       "      <td>1</td>\n",
       "      <td>0</td>\n",
       "      <td>0</td>\n",
       "      <td>1</td>\n",
       "      <td>0</td>\n",
       "      <td>58.0</td>\n",
       "    </tr>\n",
       "    <tr>\n",
       "      <th>13</th>\n",
       "      <td>0</td>\n",
       "      <td>1</td>\n",
       "      <td>1</td>\n",
       "      <td>0</td>\n",
       "      <td>0</td>\n",
       "      <td>0</td>\n",
       "      <td>39.0</td>\n",
       "    </tr>\n",
       "    <tr>\n",
       "      <th>2</th>\n",
       "      <td>0</td>\n",
       "      <td>1</td>\n",
       "      <td>1</td>\n",
       "      <td>0</td>\n",
       "      <td>0</td>\n",
       "      <td>1</td>\n",
       "      <td>58.0</td>\n",
       "    </tr>\n",
       "    <tr>\n",
       "      <th>9</th>\n",
       "      <td>0</td>\n",
       "      <td>1</td>\n",
       "      <td>1</td>\n",
       "      <td>0</td>\n",
       "      <td>0</td>\n",
       "      <td>0</td>\n",
       "      <td>54.0</td>\n",
       "    </tr>\n",
       "    <tr>\n",
       "      <th>19</th>\n",
       "      <td>1</td>\n",
       "      <td>1</td>\n",
       "      <td>1</td>\n",
       "      <td>0</td>\n",
       "      <td>1</td>\n",
       "      <td>1</td>\n",
       "      <td>23.0</td>\n",
       "    </tr>\n",
       "    <tr>\n",
       "      <th>4</th>\n",
       "      <td>0</td>\n",
       "      <td>1</td>\n",
       "      <td>1</td>\n",
       "      <td>0</td>\n",
       "      <td>2</td>\n",
       "      <td>1</td>\n",
       "      <td>58.0</td>\n",
       "    </tr>\n",
       "    <tr>\n",
       "      <th>12</th>\n",
       "      <td>0</td>\n",
       "      <td>1</td>\n",
       "      <td>1</td>\n",
       "      <td>0</td>\n",
       "      <td>0</td>\n",
       "      <td>1</td>\n",
       "      <td>24.0</td>\n",
       "    </tr>\n",
       "    <tr>\n",
       "      <th>7</th>\n",
       "      <td>0</td>\n",
       "      <td>1</td>\n",
       "      <td>1</td>\n",
       "      <td>0</td>\n",
       "      <td>0</td>\n",
       "      <td>1</td>\n",
       "      <td>30.0</td>\n",
       "    </tr>\n",
       "    <tr>\n",
       "      <th>10</th>\n",
       "      <td>1</td>\n",
       "      <td>1</td>\n",
       "      <td>0</td>\n",
       "      <td>0</td>\n",
       "      <td>0</td>\n",
       "      <td>1</td>\n",
       "      <td>32.0</td>\n",
       "    </tr>\n",
       "    <tr>\n",
       "      <th>14</th>\n",
       "      <td>0</td>\n",
       "      <td>1</td>\n",
       "      <td>1</td>\n",
       "      <td>1</td>\n",
       "      <td>1</td>\n",
       "      <td>1</td>\n",
       "      <td>49.0</td>\n",
       "    </tr>\n",
       "    <tr>\n",
       "      <th>6</th>\n",
       "      <td>1</td>\n",
       "      <td>2</td>\n",
       "      <td>1</td>\n",
       "      <td>0</td>\n",
       "      <td>0</td>\n",
       "      <td>0</td>\n",
       "      <td>34.0</td>\n",
       "    </tr>\n",
       "  </tbody>\n",
       "</table>\n",
       "</div>"
      ],
      "text/plain": [
       "    Survived  Pclass  Sex  SibSp  Parch  Embarked   Age\n",
       "8          0       1    1      0      0         0  47.0\n",
       "5          1       1    0      1      0         1  38.0\n",
       "11         0       3    1      0      0         0  19.0\n",
       "3          1       1    0      0      1         1  50.0\n",
       "18         0       1    1      1      0         0  50.0\n",
       "16         1       1    0      0      1         0  58.0\n",
       "13         0       1    1      0      0         0  39.0\n",
       "2          0       1    1      0      0         1  58.0\n",
       "9          0       1    1      0      0         0  54.0\n",
       "19         1       1    1      0      1         1  23.0\n",
       "4          0       1    1      0      2         1  58.0\n",
       "12         0       1    1      0      0         1  24.0\n",
       "7          0       1    1      0      0         1  30.0\n",
       "10         1       1    0      0      0         1  32.0\n",
       "14         0       1    1      1      1         1  49.0\n",
       "6          1       2    1      0      0         0  34.0"
      ]
     },
     "execution_count": 94,
     "metadata": {},
     "output_type": "execute_result"
    }
   ],
   "source": [
    "tr_val_data = pd.concat([tr_val_X, tr_val_y], axis=1)\n",
    "tr_val_data"
   ]
  },
  {
   "cell_type": "code",
   "execution_count": 95,
   "metadata": {
    "id": "VmfqmwEVpkNV"
   },
   "outputs": [],
   "source": [
    "# train / valid data로 split \n",
    "train_X, valid_X, train_y, valid_y = train_test_split(\n",
    "    tr_val_data[X_column], # X 입력 데이터 - > train_X, valid_X\n",
    "    tr_val_data[y_column], # Y 정답 데이터 -> train_y, valid_y\n",
    "    test_size = 0.2, \n",
    "    shuffle=True,\n",
    "    random_state=42)"
   ]
  },
  {
   "cell_type": "code",
   "execution_count": 96,
   "metadata": {
    "colab": {
     "base_uri": "https://localhost:8080/"
    },
    "id": "RzaOZBLLpv8P",
    "outputId": "f2ef859b-1dd5-4e85-c83d-1efc53217688"
   },
   "outputs": [
    {
     "name": "stdout",
     "output_type": "stream",
     "text": [
      "12\n",
      "4\n",
      "4\n"
     ]
    },
    {
     "data": {
      "text/plain": [
       "20"
      ]
     },
     "execution_count": 96,
     "metadata": {},
     "output_type": "execute_result"
    }
   ],
   "source": [
    "print(len(train_X))\n",
    "print(len(valid_X))\n",
    "print(len(test_X))\n",
    "len(train_X) + len(valid_X) + len(test_X) # 20"
   ]
  },
  {
   "cell_type": "markdown",
   "metadata": {
    "id": "VynU64eGNQGE"
   },
   "source": [
    "## **4. 본격적인 모델 학습의 시작!**\n",
    "Decision Tree, Random Forest, XGB, CATBOOST"
   ]
  },
  {
   "cell_type": "code",
   "execution_count": 98,
   "metadata": {
    "colab": {
     "base_uri": "https://localhost:8080/"
    },
    "id": "E9JoOo8SqTE0",
    "outputId": "e811fcaf-d1a9-4932-8b93-3d673798a3b6"
   },
   "outputs": [
    {
     "data": {
      "text/plain": [
       "RandomForestRegressor(bootstrap=True, ccp_alpha=0.0, criterion='mse',\n",
       "                      max_depth=None, max_features='auto', max_leaf_nodes=None,\n",
       "                      max_samples=None, min_impurity_decrease=0.0,\n",
       "                      min_impurity_split=None, min_samples_leaf=1,\n",
       "                      min_samples_split=2, min_weight_fraction_leaf=0.0,\n",
       "                      n_estimators=100, n_jobs=None, oob_score=False,\n",
       "                      random_state=None, verbose=0, warm_start=False)"
      ]
     },
     "execution_count": 98,
     "metadata": {},
     "output_type": "execute_result"
    }
   ],
   "source": [
    "from sklearn.ensemble import RandomForestRegressor # 참고로 RandomForest 모델은 validation을 할 수 없다\n",
    "\n",
    "model_rf = RandomForestRegressor()\n",
    "model_rf.fit(train_X, train_y) # train_X를 넣었을 때 정답 train_y가 나오도록 학습"
   ]
  },
  {
   "cell_type": "code",
   "execution_count": 99,
   "metadata": {
    "colab": {
     "base_uri": "https://localhost:8080/",
     "height": 263
    },
    "id": "TKcJ9W-Bqk2G",
    "outputId": "f3e6aa9a-158e-4546-cd44-09b9bacc6920"
   },
   "outputs": [
    {
     "data": {
      "text/html": [
       "<div>\n",
       "<style scoped>\n",
       "    .dataframe tbody tr th:only-of-type {\n",
       "        vertical-align: middle;\n",
       "    }\n",
       "\n",
       "    .dataframe tbody tr th {\n",
       "        vertical-align: top;\n",
       "    }\n",
       "\n",
       "    .dataframe thead th {\n",
       "        text-align: right;\n",
       "    }\n",
       "</style>\n",
       "<table border=\"1\" class=\"dataframe\">\n",
       "  <thead>\n",
       "    <tr style=\"text-align: right;\">\n",
       "      <th></th>\n",
       "      <th>Survived</th>\n",
       "      <th>Pclass</th>\n",
       "      <th>Sex</th>\n",
       "      <th>SibSp</th>\n",
       "      <th>Parch</th>\n",
       "      <th>Embarked</th>\n",
       "    </tr>\n",
       "  </thead>\n",
       "  <tbody>\n",
       "    <tr>\n",
       "      <th>0</th>\n",
       "      <td>0</td>\n",
       "      <td>1</td>\n",
       "      <td>1</td>\n",
       "      <td>1</td>\n",
       "      <td>0</td>\n",
       "      <td>0</td>\n",
       "    </tr>\n",
       "    <tr>\n",
       "      <th>17</th>\n",
       "      <td>1</td>\n",
       "      <td>2</td>\n",
       "      <td>0</td>\n",
       "      <td>0</td>\n",
       "      <td>0</td>\n",
       "      <td>0</td>\n",
       "    </tr>\n",
       "    <tr>\n",
       "      <th>15</th>\n",
       "      <td>0</td>\n",
       "      <td>2</td>\n",
       "      <td>1</td>\n",
       "      <td>0</td>\n",
       "      <td>2</td>\n",
       "      <td>0</td>\n",
       "    </tr>\n",
       "    <tr>\n",
       "      <th>1</th>\n",
       "      <td>0</td>\n",
       "      <td>2</td>\n",
       "      <td>0</td>\n",
       "      <td>0</td>\n",
       "      <td>0</td>\n",
       "      <td>0</td>\n",
       "    </tr>\n",
       "  </tbody>\n",
       "</table>\n",
       "</div>"
      ],
      "text/plain": [
       "    Survived  Pclass  Sex  SibSp  Parch  Embarked\n",
       "0          0       1    1      1      0         0\n",
       "17         1       2    0      0      0         0\n",
       "15         0       2    1      0      2         0\n",
       "1          0       2    0      0      0         0"
      ]
     },
     "metadata": {},
     "output_type": "display_data"
    },
    {
     "data": {
      "text/plain": [
       "0     46.0\n",
       "17    29.0\n",
       "15    36.5\n",
       "1     57.0\n",
       "Name: Age, dtype: float64"
      ]
     },
     "metadata": {},
     "output_type": "display_data"
    }
   ],
   "source": [
    "display(test_X, test_y)"
   ]
  },
  {
   "cell_type": "code",
   "execution_count": 100,
   "metadata": {
    "colab": {
     "base_uri": "https://localhost:8080/"
    },
    "id": "dSQTY80UqzmF",
    "outputId": "415b1980-acf1-43a3-f6dd-3ed7549eae3d"
   },
   "outputs": [
    {
     "data": {
      "text/plain": [
       "0     46.0\n",
       "17    29.0\n",
       "15    36.5\n",
       "1     57.0\n",
       "Name: Age, dtype: float64"
      ]
     },
     "execution_count": 100,
     "metadata": {},
     "output_type": "execute_result"
    }
   ],
   "source": [
    "# 정답 값을 의미, 이해하기 쉽게 변수명 설정\n",
    "true_y = test_y\n",
    "true_y"
   ]
  },
  {
   "cell_type": "code",
   "execution_count": 101,
   "metadata": {
    "colab": {
     "base_uri": "https://localhost:8080/"
    },
    "id": "ectEDrH1q_4M",
    "outputId": "bb5f0909-1658-4272-de47-d078fe05bbf5"
   },
   "outputs": [
    {
     "data": {
      "text/plain": [
       "array([48.59333333, 36.9275    , 49.47      , 42.27583333])"
      ]
     },
     "execution_count": 101,
     "metadata": {},
     "output_type": "execute_result"
    }
   ],
   "source": [
    "# prediction (예측) -> model로 예측한 정답 값 \n",
    "pred_y = model_rf.predict(test_X)\n",
    "pred_y"
   ]
  },
  {
   "cell_type": "code",
   "execution_count": 102,
   "metadata": {
    "colab": {
     "base_uri": "https://localhost:8080/",
     "height": 173
    },
    "id": "NWyVeoy8rHfL",
    "outputId": "91bc70a9-b0a7-4718-eb59-fc4a052ef08b"
   },
   "outputs": [
    {
     "data": {
      "text/html": [
       "<div>\n",
       "<style scoped>\n",
       "    .dataframe tbody tr th:only-of-type {\n",
       "        vertical-align: middle;\n",
       "    }\n",
       "\n",
       "    .dataframe tbody tr th {\n",
       "        vertical-align: top;\n",
       "    }\n",
       "\n",
       "    .dataframe thead th {\n",
       "        text-align: right;\n",
       "    }\n",
       "</style>\n",
       "<table border=\"1\" class=\"dataframe\">\n",
       "  <thead>\n",
       "    <tr style=\"text-align: right;\">\n",
       "      <th></th>\n",
       "      <th>true_y</th>\n",
       "      <th>pred_y</th>\n",
       "    </tr>\n",
       "  </thead>\n",
       "  <tbody>\n",
       "    <tr>\n",
       "      <th>0</th>\n",
       "      <td>46.0</td>\n",
       "      <td>48.593333</td>\n",
       "    </tr>\n",
       "    <tr>\n",
       "      <th>1</th>\n",
       "      <td>29.0</td>\n",
       "      <td>36.927500</td>\n",
       "    </tr>\n",
       "    <tr>\n",
       "      <th>2</th>\n",
       "      <td>36.5</td>\n",
       "      <td>49.470000</td>\n",
       "    </tr>\n",
       "    <tr>\n",
       "      <th>3</th>\n",
       "      <td>57.0</td>\n",
       "      <td>42.275833</td>\n",
       "    </tr>\n",
       "  </tbody>\n",
       "</table>\n",
       "</div>"
      ],
      "text/plain": [
       "   true_y     pred_y\n",
       "0    46.0  48.593333\n",
       "1    29.0  36.927500\n",
       "2    36.5  49.470000\n",
       "3    57.0  42.275833"
      ]
     },
     "execution_count": 102,
     "metadata": {},
     "output_type": "execute_result"
    }
   ],
   "source": [
    "# 정답값(true_y) 와 예측값(pred_y)를 한눈에 보기 위한 function\n",
    "df_result = pd.DataFrame(list(zip(test_Y, pred_y)), columns=['true_y', 'pred_y'])\n",
    "df_result"
   ]
  },
  {
   "cell_type": "markdown",
   "metadata": {
    "id": "kSyIQH_BPAX_"
   },
   "source": [
    "실제로는 data의 양이 방대하기 때문에 평가 module을 사용한다\n",
    "\n",
    "**report -> input data, model, 평가 mse/rmse값 에 대해 report**"
   ]
  },
  {
   "cell_type": "code",
   "execution_count": 103,
   "metadata": {
    "colab": {
     "base_uri": "https://localhost:8080/"
    },
    "id": "U1nalGoYrQ6l",
    "outputId": "6ae52642-e6b9-4fd1-a04c-25a53c7fe3e4"
   },
   "outputs": [
    {
     "data": {
      "text/plain": [
       "113.64815451388891"
      ]
     },
     "execution_count": 103,
     "metadata": {},
     "output_type": "execute_result"
    }
   ],
   "source": [
    "from sklearn.metrics import mean_squared_error\n",
    "\n",
    "mse = mean_squared_error(true_y, pred_y) # 정답값 대비 예측값이 틀린 정도를 봄 \n",
    "mse"
   ]
  },
  {
   "cell_type": "code",
   "execution_count": 104,
   "metadata": {
    "colab": {
     "base_uri": "https://localhost:8080/"
    },
    "id": "9p6hEddMrjMb",
    "outputId": "5a845462-ee61-4678-baa3-e218f2824151"
   },
   "outputs": [
    {
     "data": {
      "text/plain": [
       "10.660588844613082"
      ]
     },
     "execution_count": 104,
     "metadata": {},
     "output_type": "execute_result"
    }
   ],
   "source": [
    "# RMSE root mean, 에러율\n",
    "rmse = np.sqrt(mse)\n",
    "rmse"
   ]
  },
  {
   "cell_type": "markdown",
   "metadata": {
    "id": "kU69NaDeP694"
   },
   "source": [
    "## **Ex_ xgboost**"
   ]
  },
  {
   "cell_type": "code",
   "execution_count": 105,
   "metadata": {
    "colab": {
     "base_uri": "https://localhost:8080/"
    },
    "id": "Uj5MChnxrsqi",
    "outputId": "ef169c35-89e5-4365-fbcd-773dfec2866a"
   },
   "outputs": [
    {
     "name": "stdout",
     "output_type": "stream",
     "text": [
      "[16:15:40] WARNING: /workspace/src/objective/regression_obj.cu:152: reg:linear is now deprecated in favor of reg:squarederror.\n",
      "[0]\tvalidation_0-rmse:44.3522\n",
      "[1]\tvalidation_0-rmse:41.0197\n",
      "[2]\tvalidation_0-rmse:37.9999\n",
      "[3]\tvalidation_0-rmse:35.2644\n",
      "[4]\tvalidation_0-rmse:32.8644\n",
      "[5]\tvalidation_0-rmse:30.6151\n",
      "[6]\tvalidation_0-rmse:28.5801\n",
      "[7]\tvalidation_0-rmse:26.7967\n",
      "[8]\tvalidation_0-rmse:25.2461\n",
      "[9]\tvalidation_0-rmse:23.7229\n",
      "[10]\tvalidation_0-rmse:22.4325\n",
      "[11]\tvalidation_0-rmse:21.2149\n",
      "[12]\tvalidation_0-rmse:20.1422\n",
      "[13]\tvalidation_0-rmse:19.1541\n",
      "[14]\tvalidation_0-rmse:18.2235\n",
      "[15]\tvalidation_0-rmse:17.3767\n",
      "[16]\tvalidation_0-rmse:16.6017\n",
      "[17]\tvalidation_0-rmse:15.8987\n",
      "[18]\tvalidation_0-rmse:15.2777\n",
      "[19]\tvalidation_0-rmse:14.7117\n",
      "[20]\tvalidation_0-rmse:14.1964\n",
      "[21]\tvalidation_0-rmse:13.7276\n",
      "[22]\tvalidation_0-rmse:13.3016\n",
      "[23]\tvalidation_0-rmse:12.9147\n",
      "[24]\tvalidation_0-rmse:12.5636\n",
      "[25]\tvalidation_0-rmse:12.2452\n",
      "[26]\tvalidation_0-rmse:11.9753\n",
      "[27]\tvalidation_0-rmse:11.7122\n",
      "[28]\tvalidation_0-rmse:11.4739\n",
      "[29]\tvalidation_0-rmse:11.2582\n",
      "[30]\tvalidation_0-rmse:11.0629\n",
      "[31]\tvalidation_0-rmse:10.7249\n",
      "[32]\tvalidation_0-rmse:10.5647\n",
      "[33]\tvalidation_0-rmse:10.42\n",
      "[34]\tvalidation_0-rmse:10.2891\n",
      "[35]\tvalidation_0-rmse:10.1275\n",
      "[36]\tvalidation_0-rmse:9.79049\n",
      "[37]\tvalidation_0-rmse:9.47265\n",
      "[38]\tvalidation_0-rmse:9.17298\n",
      "[39]\tvalidation_0-rmse:8.89051\n",
      "[40]\tvalidation_0-rmse:8.62435\n",
      "[41]\tvalidation_0-rmse:8.37361\n",
      "[42]\tvalidation_0-rmse:8.13749\n",
      "[43]\tvalidation_0-rmse:7.91519\n",
      "[44]\tvalidation_0-rmse:7.70597\n",
      "[45]\tvalidation_0-rmse:7.50913\n",
      "[46]\tvalidation_0-rmse:7.32397\n",
      "[47]\tvalidation_0-rmse:7.14987\n",
      "[48]\tvalidation_0-rmse:6.9862\n",
      "[49]\tvalidation_0-rmse:6.83237\n",
      "[50]\tvalidation_0-rmse:6.68784\n",
      "[51]\tvalidation_0-rmse:6.55208\n",
      "[52]\tvalidation_0-rmse:6.42457\n",
      "[53]\tvalidation_0-rmse:6.30484\n",
      "[54]\tvalidation_0-rmse:6.19243\n",
      "[55]\tvalidation_0-rmse:6.08692\n",
      "[56]\tvalidation_0-rmse:5.98789\n",
      "[57]\tvalidation_0-rmse:5.89495\n",
      "[58]\tvalidation_0-rmse:5.80495\n",
      "[59]\tvalidation_0-rmse:5.72316\n",
      "[60]\tvalidation_0-rmse:5.64398\n",
      "[61]\tvalidation_0-rmse:5.56942\n",
      "[62]\tvalidation_0-rmse:5.5019\n",
      "[63]\tvalidation_0-rmse:5.43629\n",
      "[64]\tvalidation_0-rmse:5.37511\n",
      "[65]\tvalidation_0-rmse:5.31935\n",
      "[66]\tvalidation_0-rmse:5.26523\n",
      "[67]\tvalidation_0-rmse:5.19014\n",
      "[68]\tvalidation_0-rmse:5.11884\n",
      "[69]\tvalidation_0-rmse:5.05113\n",
      "[70]\tvalidation_0-rmse:5.00793\n",
      "[71]\tvalidation_0-rmse:4.94675\n",
      "[72]\tvalidation_0-rmse:4.88865\n",
      "[73]\tvalidation_0-rmse:4.83348\n",
      "[74]\tvalidation_0-rmse:4.78108\n",
      "[75]\tvalidation_0-rmse:4.73133\n",
      "[76]\tvalidation_0-rmse:4.70003\n",
      "[77]\tvalidation_0-rmse:4.65507\n",
      "[78]\tvalidation_0-rmse:4.61237\n",
      "[79]\tvalidation_0-rmse:4.57182\n",
      "[80]\tvalidation_0-rmse:4.53331\n",
      "[81]\tvalidation_0-rmse:4.50935\n",
      "[82]\tvalidation_0-rmse:4.47456\n",
      "[83]\tvalidation_0-rmse:4.44151\n",
      "[84]\tvalidation_0-rmse:4.41013\n",
      "[85]\tvalidation_0-rmse:4.39078\n",
      "[86]\tvalidation_0-rmse:4.36242\n",
      "[87]\tvalidation_0-rmse:4.33549\n",
      "[88]\tvalidation_0-rmse:4.30991\n",
      "[89]\tvalidation_0-rmse:4.29426\n",
      "[90]\tvalidation_0-rmse:4.27115\n",
      "[91]\tvalidation_0-rmse:4.2491\n",
      "[92]\tvalidation_0-rmse:4.22824\n",
      "[93]\tvalidation_0-rmse:4.21581\n",
      "[94]\tvalidation_0-rmse:4.19697\n",
      "[95]\tvalidation_0-rmse:4.17907\n",
      "[96]\tvalidation_0-rmse:4.16851\n",
      "[97]\tvalidation_0-rmse:4.15238\n",
      "[98]\tvalidation_0-rmse:4.14299\n",
      "[99]\tvalidation_0-rmse:4.12842\n"
     ]
    },
    {
     "data": {
      "text/plain": [
       "XGBRegressor(base_score=0.5, booster='gbtree', colsample_bylevel=1,\n",
       "             colsample_bynode=1, colsample_bytree=1, gamma=0,\n",
       "             importance_type='gain', learning_rate=0.1, max_delta_step=0,\n",
       "             max_depth=3, min_child_weight=1, missing=None, n_estimators=100,\n",
       "             n_jobs=1, nthread=None, objective='reg:linear', random_state=0,\n",
       "             reg_alpha=0, reg_lambda=1, scale_pos_weight=1, seed=None,\n",
       "             silent=None, subsample=1, verbosity=1)"
      ]
     },
     "execution_count": 105,
     "metadata": {},
     "output_type": "execute_result"
    }
   ],
   "source": [
    "from xgboost import XGBRegressor # 학습 도중 validation이 가능하여 더 좋은 예측을 가질 수 있다 \n",
    "\n",
    "model_xgb = XGBRegressor()\n",
    "model_xgb.fit(train_X, train_y, eval_set=[(valid_X, valid_y)])"
   ]
  },
  {
   "cell_type": "code",
   "execution_count": 106,
   "metadata": {
    "colab": {
     "base_uri": "https://localhost:8080/"
    },
    "id": "fQSzmNh-r_tu",
    "outputId": "26ccef45-7328-49f2-d2fd-84eca4bf8f78"
   },
   "outputs": [
    {
     "data": {
      "text/plain": [
       "array([49.763065, 30.137949, 53.59378 , 30.664843], dtype=float32)"
      ]
     },
     "execution_count": 106,
     "metadata": {},
     "output_type": "execute_result"
    }
   ],
   "source": [
    "# prediction (예측)\n",
    "xgb_pred_y = model_xgb.predict(test_X)\n",
    "xgb_pred_y"
   ]
  },
  {
   "cell_type": "code",
   "execution_count": 107,
   "metadata": {
    "colab": {
     "base_uri": "https://localhost:8080/",
     "height": 173
    },
    "id": "2K-MibbGr-dI",
    "outputId": "3fb381f1-9a45-4edd-96cd-53256223032a"
   },
   "outputs": [
    {
     "data": {
      "text/html": [
       "<div>\n",
       "<style scoped>\n",
       "    .dataframe tbody tr th:only-of-type {\n",
       "        vertical-align: middle;\n",
       "    }\n",
       "\n",
       "    .dataframe tbody tr th {\n",
       "        vertical-align: top;\n",
       "    }\n",
       "\n",
       "    .dataframe thead th {\n",
       "        text-align: right;\n",
       "    }\n",
       "</style>\n",
       "<table border=\"1\" class=\"dataframe\">\n",
       "  <thead>\n",
       "    <tr style=\"text-align: right;\">\n",
       "      <th></th>\n",
       "      <th>true_y</th>\n",
       "      <th>xgb_pred_y</th>\n",
       "    </tr>\n",
       "  </thead>\n",
       "  <tbody>\n",
       "    <tr>\n",
       "      <th>0</th>\n",
       "      <td>46.0</td>\n",
       "      <td>49.763065</td>\n",
       "    </tr>\n",
       "    <tr>\n",
       "      <th>1</th>\n",
       "      <td>29.0</td>\n",
       "      <td>30.137949</td>\n",
       "    </tr>\n",
       "    <tr>\n",
       "      <th>2</th>\n",
       "      <td>36.5</td>\n",
       "      <td>53.593781</td>\n",
       "    </tr>\n",
       "    <tr>\n",
       "      <th>3</th>\n",
       "      <td>57.0</td>\n",
       "      <td>30.664843</td>\n",
       "    </tr>\n",
       "  </tbody>\n",
       "</table>\n",
       "</div>"
      ],
      "text/plain": [
       "   true_y  xgb_pred_y\n",
       "0    46.0   49.763065\n",
       "1    29.0   30.137949\n",
       "2    36.5   53.593781\n",
       "3    57.0   30.664843"
      ]
     },
     "execution_count": 107,
     "metadata": {},
     "output_type": "execute_result"
    }
   ],
   "source": [
    "df_result = pd.DataFrame(list(zip(test_Y, xgb_pred_y)), columns=['true_y', 'xgb_pred_y'])\n",
    "df_result "
   ]
  },
  {
   "cell_type": "code",
   "execution_count": 108,
   "metadata": {
    "colab": {
     "base_uri": "https://localhost:8080/"
    },
    "id": "IvbeY9AdQoRb",
    "outputId": "b706eec9-e793-494b-ef87-7fe874bc5879"
   },
   "outputs": [
    {
     "name": "stdout",
     "output_type": "stream",
     "text": [
      "250.29835900351281\n",
      "15.820820427636262\n"
     ]
    }
   ],
   "source": [
    "mse = mean_squared_error(true_y, xgb_pred_y)\n",
    "print(mse)\n",
    "\n",
    "rmse = np.sqrt(mse)\n",
    "print(rmse)"
   ]
  }
 ],
 "metadata": {
  "colab": {
   "collapsed_sections": [
    "uaCLqAV8AZ_-",
    "OTJ-UX2BEF6p",
    "RLx9uTLFEX9E",
    "P0oYjoOKJTxy",
    "kU69NaDeP694"
   ],
   "name": "test_regression.ipynb",
   "provenance": []
  },
  "kernelspec": {
   "display_name": "Python 3",
   "language": "python",
   "name": "python3"
  },
  "language_info": {
   "codemirror_mode": {
    "name": "ipython",
    "version": 3
   },
   "file_extension": ".py",
   "mimetype": "text/x-python",
   "name": "python",
   "nbconvert_exporter": "python",
   "pygments_lexer": "ipython3",
   "version": "3.8.12"
  }
 },
 "nbformat": 4,
 "nbformat_minor": 1
}
