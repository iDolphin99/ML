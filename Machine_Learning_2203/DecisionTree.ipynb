{
 "cells": [
  {
   "cell_type": "markdown",
   "id": "9fd56e40",
   "metadata": {},
   "source": [
    "# <font color=\"blue\"> [기계학습 7W] 의사결정나무 (Decision Tree) </font>"
   ]
  },
  {
   "cell_type": "markdown",
   "id": "f7cc69d2",
   "metadata": {},
   "source": [
    "2022년 1학기, 광운대학교, 기계학습"
   ]
  },
  {
   "cell_type": "markdown",
   "id": "e68a7d13",
   "metadata": {},
   "source": [
    "> #### 지난시간에 학습한 의사결정나무의 알고리즘을 실습한다. <br/>\n",
    "> ####  알고리즘은 CART 알고리즘을 기반으로 적용하며, 모델의 적합, 평가, 그리고 일반화 성능을 높이기 위한 가지치기까지 수행해본다."
   ]
  },
  {
   "cell_type": "markdown",
   "id": "01adbdee",
   "metadata": {},
   "source": [
    "[1. 실험환경 구성 (Experimental setting)](#1.-실험환경-구성-(Experimental-setting))  \n",
    "[2. 데이터 불러오기 (Data loading)](#2.-데이터-불러오기-(Data-loading))  \n",
    ">[데이터 확인](#데이터-확인)  \n",
    ">[학습, 테스트 데이터 분리](#학습,-테스트-데이터-분리)  \n",
    "\n",
    "[3. 의사결정나무 모델 구축 (Classification Tree)](#3.-의사결정나무-모델-구축-(Classification-Tree)) \n",
    ">[의사결정나무 모델 가시화](#의사결정나무-모델-가시화) \n",
    "\n",
    "[4. 의사결정나무 모델 테스트 ](#4.-의사결정나무-모델-테스트) \n",
    ">[Cross Validation](#Cross Validation)  \n",
    "\n",
    "[5. 가지치기 수행 (Pruning phase)](#5.-가지치기-수행-(Pruning-phase)) "
   ]
  },
  {
   "cell_type": "markdown",
   "id": "b194fc47",
   "metadata": {
    "id": "under-complex"
   },
   "source": [
    "# 1. 실험환경 구성 (Experimental setting)"
   ]
  },
  {
   "cell_type": "code",
   "execution_count": 1,
   "id": "2001537f",
   "metadata": {
    "executionInfo": {
     "elapsed": 1230,
     "status": "ok",
     "timestamp": 1616656739831,
     "user": {
      "displayName": "고해지",
      "photoUrl": "",
      "userId": "12709063932312169253"
     },
     "user_tz": -540
    },
    "id": "compatible-democrat"
   },
   "outputs": [],
   "source": [
    "# 라이브러리 로드\n",
    "import pandas as pd\n",
    "\n",
    "from sklearn.tree import DecisionTreeClassifier\n",
    "from sklearn.datasets import load_breast_cancer # 사용할 dataset (유방암데이터)\n",
    "from sklearn.model_selection import train_test_split # 학습, 테스트set 구분\n",
    "from sklearn.tree import export_graphviz # tree 시각화를 위해\n",
    "# export_graphviz : 의사결정나무에 대한 graphviz dot data 생성하는 함수\n",
    "import graphviz # tree 시각화\n",
    "import sklearn.metrics as mt # 성능지표를 계산하기 위해 import\n",
    "from sklearn.model_selection import cross_val_score, cross_validate # 교차검증\n",
    "\n",
    "import warnings\n",
    "warnings.filterwarnings('ignore')\n"
   ]
  },
  {
   "cell_type": "markdown",
   "id": "1f7231ab",
   "metadata": {
    "id": "russian-press"
   },
   "source": [
    "# 2. 데이터 불러오기 (Data loading)"
   ]
  },
  {
   "cell_type": "markdown",
   "id": "174d4deb",
   "metadata": {
    "id": "exclusive-fairy"
   },
   "source": [
    "## 데이터 로드"
   ]
  },
  {
   "cell_type": "code",
   "execution_count": 2,
   "id": "da589a8b",
   "metadata": {
    "executionInfo": {
     "elapsed": 819,
     "status": "ok",
     "timestamp": 1616656507695,
     "user": {
      "displayName": "고해지",
      "photoUrl": "",
      "userId": "12709063932312169253"
     },
     "user_tz": -540
    },
    "id": "45ZNF76VNB4B"
   },
   "outputs": [],
   "source": [
    "cancer = load_breast_cancer()"
   ]
  },
  {
   "cell_type": "markdown",
   "id": "bfd1880e",
   "metadata": {
    "id": "perfect-pointer"
   },
   "source": [
    "## 학습, 테스트 데이터 분리"
   ]
  },
  {
   "cell_type": "code",
   "execution_count": 3,
   "id": "3d5ecc06",
   "metadata": {
    "executionInfo": {
     "elapsed": 878,
     "status": "ok",
     "timestamp": 1616656634002,
     "user": {
      "displayName": "고해지",
      "photoUrl": "",
      "userId": "12709063932312169253"
     },
     "user_tz": -540
    },
    "id": "identical-salon"
   },
   "outputs": [],
   "source": [
    "seed = 5764\n",
    "\n",
    "# 학습, 테스트 데이터 분리 (0.7:0.3)\n",
    "x_train, x_test, y_train, y_test = train_test_split(cancer.data, cancer.target, test_size=0.7, random_state=seed)"
   ]
  },
  {
   "cell_type": "code",
   "execution_count": 4,
   "id": "c8197443",
   "metadata": {},
   "outputs": [
    {
     "name": "stdout",
     "output_type": "stream",
     "text": [
      "170 \n",
      "\n",
      "399 \n",
      "\n"
     ]
    }
   ],
   "source": [
    "print(len(x_train), '\\n')\n",
    "print(len(x_test), '\\n')"
   ]
  },
  {
   "cell_type": "markdown",
   "id": "f3a5224d",
   "metadata": {
    "id": "becoming-rainbow"
   },
   "source": [
    "# 3. 의사결정나무 모델 구축 (Classification Tree)"
   ]
  },
  {
   "cell_type": "code",
   "execution_count": 51,
   "id": "8ef36b3c",
   "metadata": {
    "colab": {
     "base_uri": "https://localhost:8080/"
    },
    "executionInfo": {
     "elapsed": 1241,
     "status": "ok",
     "timestamp": 1616656638096,
     "user": {
      "displayName": "고해지",
      "photoUrl": "",
      "userId": "12709063932312169253"
     },
     "user_tz": -540
    },
    "id": "charged-james",
    "outputId": "5eb5c18c-47d1-4406-9f7d-5c3c56bd3c88"
   },
   "outputs": [
    {
     "data": {
      "text/plain": [
       "DecisionTreeClassifier(random_state=5764)"
      ]
     },
     "execution_count": 51,
     "metadata": {},
     "output_type": "execute_result"
    }
   ],
   "source": [
    "dt_clf = DecisionTreeClassifier(random_state=5764)\n",
    "dt_clf.fit(x_train, y_train) # 학습"
   ]
  },
  {
   "cell_type": "markdown",
   "id": "6622a477",
   "metadata": {
    "id": "distant-duplicate"
   },
   "source": [
    "## 의사결정나무 모델 가시화"
   ]
  },
  {
   "cell_type": "code",
   "execution_count": 6,
   "id": "71f6e2d2",
   "metadata": {},
   "outputs": [
    {
     "data": {
      "text/plain": [
       "array(['malignant', 'benign'], dtype='<U9')"
      ]
     },
     "execution_count": 6,
     "metadata": {},
     "output_type": "execute_result"
    }
   ],
   "source": [
    "cancer.target_names"
   ]
  },
  {
   "cell_type": "code",
   "execution_count": 7,
   "id": "8a0f3384",
   "metadata": {},
   "outputs": [
    {
     "data": {
      "text/plain": [
       "array(['mean radius', 'mean texture', 'mean perimeter', 'mean area',\n",
       "       'mean smoothness', 'mean compactness', 'mean concavity',\n",
       "       'mean concave points', 'mean symmetry', 'mean fractal dimension',\n",
       "       'radius error', 'texture error', 'perimeter error', 'area error',\n",
       "       'smoothness error', 'compactness error', 'concavity error',\n",
       "       'concave points error', 'symmetry error',\n",
       "       'fractal dimension error', 'worst radius', 'worst texture',\n",
       "       'worst perimeter', 'worst area', 'worst smoothness',\n",
       "       'worst compactness', 'worst concavity', 'worst concave points',\n",
       "       'worst symmetry', 'worst fractal dimension'], dtype='<U23')"
      ]
     },
     "execution_count": 7,
     "metadata": {},
     "output_type": "execute_result"
    }
   ],
   "source": [
    "cancer.feature_names"
   ]
  },
  {
   "cell_type": "code",
   "execution_count": 52,
   "id": "2edafcd8",
   "metadata": {
    "executionInfo": {
     "elapsed": 650,
     "status": "ok",
     "timestamp": 1616656644818,
     "user": {
      "displayName": "고해지",
      "photoUrl": "",
      "userId": "12709063932312169253"
     },
     "user_tz": -540
    },
    "id": "statewide-graduation"
   },
   "outputs": [],
   "source": [
    "# export_graphviz( )의 호출 결과로 out_file로 지정된 tree.dot 파일을 생성\n",
    "export_graphviz(dt_clf, out_file=\"tree.dot\", class_names = cancer.target_names, feature_names = cancer.feature_names, impurity=True, filled=True)"
   ]
  },
  {
   "cell_type": "code",
   "execution_count": 53,
   "id": "2eea5fe7",
   "metadata": {
    "colab": {
     "base_uri": "https://localhost:8080/",
     "height": 933
    },
    "executionInfo": {
     "elapsed": 1010,
     "status": "ok",
     "timestamp": 1616656648253,
     "user": {
      "displayName": "고해지",
      "photoUrl": "",
      "userId": "12709063932312169253"
     },
     "user_tz": -540
    },
    "id": "outside-winner",
    "outputId": "e25de700-09ec-41c4-8337-6d7ca3adc534"
   },
   "outputs": [
    {
     "name": "stdout",
     "output_type": "stream",
     "text": [
      "[ max_depth의 제약이 없는 경우의 Decision Tree 시각화 ]\n"
     ]
    },
    {
     "data": {
      "image/svg+xml": [
       "<?xml version=\"1.0\" encoding=\"UTF-8\" standalone=\"no\"?>\r\n",
       "<!DOCTYPE svg PUBLIC \"-//W3C//DTD SVG 1.1//EN\"\r\n",
       " \"http://www.w3.org/Graphics/SVG/1.1/DTD/svg11.dtd\">\r\n",
       "<!-- Generated by graphviz version 2.47.1 (20210417.1919)\r\n",
       " -->\r\n",
       "<!-- Title: Tree Pages: 1 -->\r\n",
       "<svg width=\"1134pt\" height=\"671pt\"\r\n",
       " viewBox=\"0.00 0.00 1134.00 671.00\" xmlns=\"http://www.w3.org/2000/svg\" xmlns:xlink=\"http://www.w3.org/1999/xlink\">\r\n",
       "<g id=\"graph0\" class=\"graph\" transform=\"scale(1 1) rotate(0) translate(4 667)\">\r\n",
       "<title>Tree</title>\r\n",
       "<polygon fill=\"white\" stroke=\"transparent\" points=\"-4,4 -4,-667 1130,-667 1130,4 -4,4\"/>\r\n",
       "<!-- 0 -->\r\n",
       "<g id=\"node1\" class=\"node\">\r\n",
       "<title>0</title>\r\n",
       "<polygon fill=\"#d5eafa\" stroke=\"black\" points=\"648,-663 483,-663 483,-580 648,-580 648,-663\"/>\r\n",
       "<text text-anchor=\"middle\" x=\"565.5\" y=\"-647.8\" font-family=\"Times New Roman,serif\" font-size=\"14.00\">worst perimeter &lt;= 107.25</text>\r\n",
       "<text text-anchor=\"middle\" x=\"565.5\" y=\"-632.8\" font-family=\"Times New Roman,serif\" font-size=\"14.00\">gini = 0.493</text>\r\n",
       "<text text-anchor=\"middle\" x=\"565.5\" y=\"-617.8\" font-family=\"Times New Roman,serif\" font-size=\"14.00\">samples = 170</text>\r\n",
       "<text text-anchor=\"middle\" x=\"565.5\" y=\"-602.8\" font-family=\"Times New Roman,serif\" font-size=\"14.00\">value = [75, 95]</text>\r\n",
       "<text text-anchor=\"middle\" x=\"565.5\" y=\"-587.8\" font-family=\"Times New Roman,serif\" font-size=\"14.00\">class = benign</text>\r\n",
       "</g>\r\n",
       "<!-- 1 -->\r\n",
       "<g id=\"node2\" class=\"node\">\r\n",
       "<title>1</title>\r\n",
       "<polygon fill=\"#44a3e6\" stroke=\"black\" points=\"555,-544 394,-544 394,-461 555,-461 555,-544\"/>\r\n",
       "<text text-anchor=\"middle\" x=\"474.5\" y=\"-528.8\" font-family=\"Times New Roman,serif\" font-size=\"14.00\">worst symmetry &lt;= 0.365</text>\r\n",
       "<text text-anchor=\"middle\" x=\"474.5\" y=\"-513.8\" font-family=\"Times New Roman,serif\" font-size=\"14.00\">gini = 0.101</text>\r\n",
       "<text text-anchor=\"middle\" x=\"474.5\" y=\"-498.8\" font-family=\"Times New Roman,serif\" font-size=\"14.00\">samples = 94</text>\r\n",
       "<text text-anchor=\"middle\" x=\"474.5\" y=\"-483.8\" font-family=\"Times New Roman,serif\" font-size=\"14.00\">value = [5, 89]</text>\r\n",
       "<text text-anchor=\"middle\" x=\"474.5\" y=\"-468.8\" font-family=\"Times New Roman,serif\" font-size=\"14.00\">class = benign</text>\r\n",
       "</g>\r\n",
       "<!-- 0&#45;&gt;1 -->\r\n",
       "<g id=\"edge1\" class=\"edge\">\r\n",
       "<title>0&#45;&gt;1</title>\r\n",
       "<path fill=\"none\" stroke=\"black\" d=\"M533.93,-579.91C526.94,-570.92 519.47,-561.32 512.26,-552.05\"/>\r\n",
       "<polygon fill=\"black\" stroke=\"black\" points=\"514.92,-549.77 506.02,-544.02 509.39,-554.06 514.92,-549.77\"/>\r\n",
       "<text text-anchor=\"middle\" x=\"502.92\" y=\"-565.13\" font-family=\"Times New Roman,serif\" font-size=\"14.00\">True</text>\r\n",
       "</g>\r\n",
       "<!-- 12 -->\r\n",
       "<g id=\"node13\" class=\"node\">\r\n",
       "<title>12</title>\r\n",
       "<polygon fill=\"#e78c4a\" stroke=\"black\" points=\"741.5,-544 599.5,-544 599.5,-461 741.5,-461 741.5,-544\"/>\r\n",
       "<text text-anchor=\"middle\" x=\"670.5\" y=\"-528.8\" font-family=\"Times New Roman,serif\" font-size=\"14.00\">mean texture &lt;= 16.05</text>\r\n",
       "<text text-anchor=\"middle\" x=\"670.5\" y=\"-513.8\" font-family=\"Times New Roman,serif\" font-size=\"14.00\">gini = 0.145</text>\r\n",
       "<text text-anchor=\"middle\" x=\"670.5\" y=\"-498.8\" font-family=\"Times New Roman,serif\" font-size=\"14.00\">samples = 76</text>\r\n",
       "<text text-anchor=\"middle\" x=\"670.5\" y=\"-483.8\" font-family=\"Times New Roman,serif\" font-size=\"14.00\">value = [70, 6]</text>\r\n",
       "<text text-anchor=\"middle\" x=\"670.5\" y=\"-468.8\" font-family=\"Times New Roman,serif\" font-size=\"14.00\">class = malignant</text>\r\n",
       "</g>\r\n",
       "<!-- 0&#45;&gt;12 -->\r\n",
       "<g id=\"edge12\" class=\"edge\">\r\n",
       "<title>0&#45;&gt;12</title>\r\n",
       "<path fill=\"none\" stroke=\"black\" d=\"M601.93,-579.91C610.15,-570.74 618.96,-560.93 627.43,-551.49\"/>\r\n",
       "<polygon fill=\"black\" stroke=\"black\" points=\"630.06,-553.8 634.14,-544.02 624.85,-549.13 630.06,-553.8\"/>\r\n",
       "<text text-anchor=\"middle\" x=\"635.48\" y=\"-565.28\" font-family=\"Times New Roman,serif\" font-size=\"14.00\">False</text>\r\n",
       "</g>\r\n",
       "<!-- 2 -->\r\n",
       "<g id=\"node3\" class=\"node\">\r\n",
       "<title>2</title>\r\n",
       "<polygon fill=\"#3d9fe6\" stroke=\"black\" points=\"327.5,-425 125.5,-425 125.5,-342 327.5,-342 327.5,-425\"/>\r\n",
       "<text text-anchor=\"middle\" x=\"226.5\" y=\"-409.8\" font-family=\"Times New Roman,serif\" font-size=\"14.00\">worst fractal dimension &lt;= 0.058</text>\r\n",
       "<text text-anchor=\"middle\" x=\"226.5\" y=\"-394.8\" font-family=\"Times New Roman,serif\" font-size=\"14.00\">gini = 0.043</text>\r\n",
       "<text text-anchor=\"middle\" x=\"226.5\" y=\"-379.8\" font-family=\"Times New Roman,serif\" font-size=\"14.00\">samples = 90</text>\r\n",
       "<text text-anchor=\"middle\" x=\"226.5\" y=\"-364.8\" font-family=\"Times New Roman,serif\" font-size=\"14.00\">value = [2, 88]</text>\r\n",
       "<text text-anchor=\"middle\" x=\"226.5\" y=\"-349.8\" font-family=\"Times New Roman,serif\" font-size=\"14.00\">class = benign</text>\r\n",
       "</g>\r\n",
       "<!-- 1&#45;&gt;2 -->\r\n",
       "<g id=\"edge2\" class=\"edge\">\r\n",
       "<title>1&#45;&gt;2</title>\r\n",
       "<path fill=\"none\" stroke=\"black\" d=\"M393.98,-463.51C370.91,-452.63 345.53,-440.65 321.66,-429.4\"/>\r\n",
       "<polygon fill=\"black\" stroke=\"black\" points=\"323.13,-426.22 312.6,-425.12 320.15,-432.55 323.13,-426.22\"/>\r\n",
       "</g>\r\n",
       "<!-- 9 -->\r\n",
       "<g id=\"node10\" class=\"node\">\r\n",
       "<title>9</title>\r\n",
       "<polygon fill=\"#eeab7b\" stroke=\"black\" points=\"553.5,-425 395.5,-425 395.5,-342 553.5,-342 553.5,-425\"/>\r\n",
       "<text text-anchor=\"middle\" x=\"474.5\" y=\"-409.8\" font-family=\"Times New Roman,serif\" font-size=\"14.00\">worst perimeter &lt;= 78.63</text>\r\n",
       "<text text-anchor=\"middle\" x=\"474.5\" y=\"-394.8\" font-family=\"Times New Roman,serif\" font-size=\"14.00\">gini = 0.375</text>\r\n",
       "<text text-anchor=\"middle\" x=\"474.5\" y=\"-379.8\" font-family=\"Times New Roman,serif\" font-size=\"14.00\">samples = 4</text>\r\n",
       "<text text-anchor=\"middle\" x=\"474.5\" y=\"-364.8\" font-family=\"Times New Roman,serif\" font-size=\"14.00\">value = [3, 1]</text>\r\n",
       "<text text-anchor=\"middle\" x=\"474.5\" y=\"-349.8\" font-family=\"Times New Roman,serif\" font-size=\"14.00\">class = malignant</text>\r\n",
       "</g>\r\n",
       "<!-- 1&#45;&gt;9 -->\r\n",
       "<g id=\"edge9\" class=\"edge\">\r\n",
       "<title>1&#45;&gt;9</title>\r\n",
       "<path fill=\"none\" stroke=\"black\" d=\"M474.5,-460.91C474.5,-452.65 474.5,-443.86 474.5,-435.3\"/>\r\n",
       "<polygon fill=\"black\" stroke=\"black\" points=\"478,-435.02 474.5,-425.02 471,-435.02 478,-435.02\"/>\r\n",
       "</g>\r\n",
       "<!-- 3 -->\r\n",
       "<g id=\"node4\" class=\"node\">\r\n",
       "<title>3</title>\r\n",
       "<polygon fill=\"#e58139\" stroke=\"black\" points=\"113,-298.5 0,-298.5 0,-230.5 113,-230.5 113,-298.5\"/>\r\n",
       "<text text-anchor=\"middle\" x=\"56.5\" y=\"-283.3\" font-family=\"Times New Roman,serif\" font-size=\"14.00\">gini = 0.0</text>\r\n",
       "<text text-anchor=\"middle\" x=\"56.5\" y=\"-268.3\" font-family=\"Times New Roman,serif\" font-size=\"14.00\">samples = 1</text>\r\n",
       "<text text-anchor=\"middle\" x=\"56.5\" y=\"-253.3\" font-family=\"Times New Roman,serif\" font-size=\"14.00\">value = [1, 0]</text>\r\n",
       "<text text-anchor=\"middle\" x=\"56.5\" y=\"-238.3\" font-family=\"Times New Roman,serif\" font-size=\"14.00\">class = malignant</text>\r\n",
       "</g>\r\n",
       "<!-- 2&#45;&gt;3 -->\r\n",
       "<g id=\"edge3\" class=\"edge\">\r\n",
       "<title>2&#45;&gt;3</title>\r\n",
       "<path fill=\"none\" stroke=\"black\" d=\"M167.52,-341.91C149.88,-329.77 130.59,-316.49 113.11,-304.46\"/>\r\n",
       "<polygon fill=\"black\" stroke=\"black\" points=\"114.91,-301.45 104.69,-298.67 110.94,-307.22 114.91,-301.45\"/>\r\n",
       "</g>\r\n",
       "<!-- 4 -->\r\n",
       "<g id=\"node5\" class=\"node\">\r\n",
       "<title>4</title>\r\n",
       "<polygon fill=\"#3b9ee5\" stroke=\"black\" points=\"322,-306 131,-306 131,-223 322,-223 322,-306\"/>\r\n",
       "<text text-anchor=\"middle\" x=\"226.5\" y=\"-290.8\" font-family=\"Times New Roman,serif\" font-size=\"14.00\">worst concave points &lt;= 0.134</text>\r\n",
       "<text text-anchor=\"middle\" x=\"226.5\" y=\"-275.8\" font-family=\"Times New Roman,serif\" font-size=\"14.00\">gini = 0.022</text>\r\n",
       "<text text-anchor=\"middle\" x=\"226.5\" y=\"-260.8\" font-family=\"Times New Roman,serif\" font-size=\"14.00\">samples = 89</text>\r\n",
       "<text text-anchor=\"middle\" x=\"226.5\" y=\"-245.8\" font-family=\"Times New Roman,serif\" font-size=\"14.00\">value = [1, 88]</text>\r\n",
       "<text text-anchor=\"middle\" x=\"226.5\" y=\"-230.8\" font-family=\"Times New Roman,serif\" font-size=\"14.00\">class = benign</text>\r\n",
       "</g>\r\n",
       "<!-- 2&#45;&gt;4 -->\r\n",
       "<g id=\"edge4\" class=\"edge\">\r\n",
       "<title>2&#45;&gt;4</title>\r\n",
       "<path fill=\"none\" stroke=\"black\" d=\"M226.5,-341.91C226.5,-333.65 226.5,-324.86 226.5,-316.3\"/>\r\n",
       "<polygon fill=\"black\" stroke=\"black\" points=\"230,-316.02 226.5,-306.02 223,-316.02 230,-316.02\"/>\r\n",
       "</g>\r\n",
       "<!-- 5 -->\r\n",
       "<g id=\"node6\" class=\"node\">\r\n",
       "<title>5</title>\r\n",
       "<polygon fill=\"#399de5\" stroke=\"black\" points=\"208.5,-179.5 110.5,-179.5 110.5,-111.5 208.5,-111.5 208.5,-179.5\"/>\r\n",
       "<text text-anchor=\"middle\" x=\"159.5\" y=\"-164.3\" font-family=\"Times New Roman,serif\" font-size=\"14.00\">gini = 0.0</text>\r\n",
       "<text text-anchor=\"middle\" x=\"159.5\" y=\"-149.3\" font-family=\"Times New Roman,serif\" font-size=\"14.00\">samples = 85</text>\r\n",
       "<text text-anchor=\"middle\" x=\"159.5\" y=\"-134.3\" font-family=\"Times New Roman,serif\" font-size=\"14.00\">value = [0, 85]</text>\r\n",
       "<text text-anchor=\"middle\" x=\"159.5\" y=\"-119.3\" font-family=\"Times New Roman,serif\" font-size=\"14.00\">class = benign</text>\r\n",
       "</g>\r\n",
       "<!-- 4&#45;&gt;5 -->\r\n",
       "<g id=\"edge5\" class=\"edge\">\r\n",
       "<title>4&#45;&gt;5</title>\r\n",
       "<path fill=\"none\" stroke=\"black\" d=\"M203.25,-222.91C196.87,-211.76 189.94,-199.66 183.52,-188.44\"/>\r\n",
       "<polygon fill=\"black\" stroke=\"black\" points=\"186.5,-186.61 178.49,-179.67 180.43,-190.08 186.5,-186.61\"/>\r\n",
       "</g>\r\n",
       "<!-- 6 -->\r\n",
       "<g id=\"node7\" class=\"node\">\r\n",
       "<title>6</title>\r\n",
       "<polygon fill=\"#7bbeee\" stroke=\"black\" points=\"362,-187 227,-187 227,-104 362,-104 362,-187\"/>\r\n",
       "<text text-anchor=\"middle\" x=\"294.5\" y=\"-171.8\" font-family=\"Times New Roman,serif\" font-size=\"14.00\">mean texture &lt;= 21.1</text>\r\n",
       "<text text-anchor=\"middle\" x=\"294.5\" y=\"-156.8\" font-family=\"Times New Roman,serif\" font-size=\"14.00\">gini = 0.375</text>\r\n",
       "<text text-anchor=\"middle\" x=\"294.5\" y=\"-141.8\" font-family=\"Times New Roman,serif\" font-size=\"14.00\">samples = 4</text>\r\n",
       "<text text-anchor=\"middle\" x=\"294.5\" y=\"-126.8\" font-family=\"Times New Roman,serif\" font-size=\"14.00\">value = [1, 3]</text>\r\n",
       "<text text-anchor=\"middle\" x=\"294.5\" y=\"-111.8\" font-family=\"Times New Roman,serif\" font-size=\"14.00\">class = benign</text>\r\n",
       "</g>\r\n",
       "<!-- 4&#45;&gt;6 -->\r\n",
       "<g id=\"edge6\" class=\"edge\">\r\n",
       "<title>4&#45;&gt;6</title>\r\n",
       "<path fill=\"none\" stroke=\"black\" d=\"M250.09,-222.91C255.16,-214.2 260.56,-204.9 265.79,-195.89\"/>\r\n",
       "<polygon fill=\"black\" stroke=\"black\" points=\"268.95,-197.43 270.95,-187.02 262.9,-193.91 268.95,-197.43\"/>\r\n",
       "</g>\r\n",
       "<!-- 7 -->\r\n",
       "<g id=\"node8\" class=\"node\">\r\n",
       "<title>7</title>\r\n",
       "<polygon fill=\"#399de5\" stroke=\"black\" points=\"281,-68 184,-68 184,0 281,0 281,-68\"/>\r\n",
       "<text text-anchor=\"middle\" x=\"232.5\" y=\"-52.8\" font-family=\"Times New Roman,serif\" font-size=\"14.00\">gini = 0.0</text>\r\n",
       "<text text-anchor=\"middle\" x=\"232.5\" y=\"-37.8\" font-family=\"Times New Roman,serif\" font-size=\"14.00\">samples = 3</text>\r\n",
       "<text text-anchor=\"middle\" x=\"232.5\" y=\"-22.8\" font-family=\"Times New Roman,serif\" font-size=\"14.00\">value = [0, 3]</text>\r\n",
       "<text text-anchor=\"middle\" x=\"232.5\" y=\"-7.8\" font-family=\"Times New Roman,serif\" font-size=\"14.00\">class = benign</text>\r\n",
       "</g>\r\n",
       "<!-- 6&#45;&gt;7 -->\r\n",
       "<g id=\"edge7\" class=\"edge\">\r\n",
       "<title>6&#45;&gt;7</title>\r\n",
       "<path fill=\"none\" stroke=\"black\" d=\"M271.41,-103.73C266.51,-95.06 261.32,-85.9 256.38,-77.18\"/>\r\n",
       "<polygon fill=\"black\" stroke=\"black\" points=\"259.33,-75.28 251.35,-68.3 253.24,-78.73 259.33,-75.28\"/>\r\n",
       "</g>\r\n",
       "<!-- 8 -->\r\n",
       "<g id=\"node9\" class=\"node\">\r\n",
       "<title>8</title>\r\n",
       "<polygon fill=\"#e58139\" stroke=\"black\" points=\"412,-68 299,-68 299,0 412,0 412,-68\"/>\r\n",
       "<text text-anchor=\"middle\" x=\"355.5\" y=\"-52.8\" font-family=\"Times New Roman,serif\" font-size=\"14.00\">gini = 0.0</text>\r\n",
       "<text text-anchor=\"middle\" x=\"355.5\" y=\"-37.8\" font-family=\"Times New Roman,serif\" font-size=\"14.00\">samples = 1</text>\r\n",
       "<text text-anchor=\"middle\" x=\"355.5\" y=\"-22.8\" font-family=\"Times New Roman,serif\" font-size=\"14.00\">value = [1, 0]</text>\r\n",
       "<text text-anchor=\"middle\" x=\"355.5\" y=\"-7.8\" font-family=\"Times New Roman,serif\" font-size=\"14.00\">class = malignant</text>\r\n",
       "</g>\r\n",
       "<!-- 6&#45;&gt;8 -->\r\n",
       "<g id=\"edge8\" class=\"edge\">\r\n",
       "<title>6&#45;&gt;8</title>\r\n",
       "<path fill=\"none\" stroke=\"black\" d=\"M317.21,-103.73C322.04,-95.06 327.15,-85.9 332,-77.18\"/>\r\n",
       "<polygon fill=\"black\" stroke=\"black\" points=\"335.14,-78.74 336.95,-68.3 329.03,-75.33 335.14,-78.74\"/>\r\n",
       "</g>\r\n",
       "<!-- 10 -->\r\n",
       "<g id=\"node11\" class=\"node\">\r\n",
       "<title>10</title>\r\n",
       "<polygon fill=\"#399de5\" stroke=\"black\" points=\"437,-298.5 340,-298.5 340,-230.5 437,-230.5 437,-298.5\"/>\r\n",
       "<text text-anchor=\"middle\" x=\"388.5\" y=\"-283.3\" font-family=\"Times New Roman,serif\" font-size=\"14.00\">gini = 0.0</text>\r\n",
       "<text text-anchor=\"middle\" x=\"388.5\" y=\"-268.3\" font-family=\"Times New Roman,serif\" font-size=\"14.00\">samples = 1</text>\r\n",
       "<text text-anchor=\"middle\" x=\"388.5\" y=\"-253.3\" font-family=\"Times New Roman,serif\" font-size=\"14.00\">value = [0, 1]</text>\r\n",
       "<text text-anchor=\"middle\" x=\"388.5\" y=\"-238.3\" font-family=\"Times New Roman,serif\" font-size=\"14.00\">class = benign</text>\r\n",
       "</g>\r\n",
       "<!-- 9&#45;&gt;10 -->\r\n",
       "<g id=\"edge10\" class=\"edge\">\r\n",
       "<title>9&#45;&gt;10</title>\r\n",
       "<path fill=\"none\" stroke=\"black\" d=\"M444.66,-341.91C436.31,-330.54 427.22,-318.18 418.84,-306.77\"/>\r\n",
       "<polygon fill=\"black\" stroke=\"black\" points=\"421.62,-304.65 412.88,-298.67 415.98,-308.8 421.62,-304.65\"/>\r\n",
       "</g>\r\n",
       "<!-- 11 -->\r\n",
       "<g id=\"node12\" class=\"node\">\r\n",
       "<title>11</title>\r\n",
       "<polygon fill=\"#e58139\" stroke=\"black\" points=\"568,-298.5 455,-298.5 455,-230.5 568,-230.5 568,-298.5\"/>\r\n",
       "<text text-anchor=\"middle\" x=\"511.5\" y=\"-283.3\" font-family=\"Times New Roman,serif\" font-size=\"14.00\">gini = 0.0</text>\r\n",
       "<text text-anchor=\"middle\" x=\"511.5\" y=\"-268.3\" font-family=\"Times New Roman,serif\" font-size=\"14.00\">samples = 3</text>\r\n",
       "<text text-anchor=\"middle\" x=\"511.5\" y=\"-253.3\" font-family=\"Times New Roman,serif\" font-size=\"14.00\">value = [3, 0]</text>\r\n",
       "<text text-anchor=\"middle\" x=\"511.5\" y=\"-238.3\" font-family=\"Times New Roman,serif\" font-size=\"14.00\">class = malignant</text>\r\n",
       "</g>\r\n",
       "<!-- 9&#45;&gt;11 -->\r\n",
       "<g id=\"edge11\" class=\"edge\">\r\n",
       "<title>9&#45;&gt;11</title>\r\n",
       "<path fill=\"none\" stroke=\"black\" d=\"M487.34,-341.91C490.76,-331.09 494.46,-319.38 497.92,-308.44\"/>\r\n",
       "<polygon fill=\"black\" stroke=\"black\" points=\"501.33,-309.26 501.01,-298.67 494.66,-307.15 501.33,-309.26\"/>\r\n",
       "</g>\r\n",
       "<!-- 13 -->\r\n",
       "<g id=\"node14\" class=\"node\">\r\n",
       "<title>13</title>\r\n",
       "<polygon fill=\"#61b1ea\" stroke=\"black\" points=\"756,-425 585,-425 585,-342 756,-342 756,-425\"/>\r\n",
       "<text text-anchor=\"middle\" x=\"670.5\" y=\"-409.8\" font-family=\"Times New Roman,serif\" font-size=\"14.00\">mean smoothness &lt;= 0.114</text>\r\n",
       "<text text-anchor=\"middle\" x=\"670.5\" y=\"-394.8\" font-family=\"Times New Roman,serif\" font-size=\"14.00\">gini = 0.278</text>\r\n",
       "<text text-anchor=\"middle\" x=\"670.5\" y=\"-379.8\" font-family=\"Times New Roman,serif\" font-size=\"14.00\">samples = 6</text>\r\n",
       "<text text-anchor=\"middle\" x=\"670.5\" y=\"-364.8\" font-family=\"Times New Roman,serif\" font-size=\"14.00\">value = [1, 5]</text>\r\n",
       "<text text-anchor=\"middle\" x=\"670.5\" y=\"-349.8\" font-family=\"Times New Roman,serif\" font-size=\"14.00\">class = benign</text>\r\n",
       "</g>\r\n",
       "<!-- 12&#45;&gt;13 -->\r\n",
       "<g id=\"edge13\" class=\"edge\">\r\n",
       "<title>12&#45;&gt;13</title>\r\n",
       "<path fill=\"none\" stroke=\"black\" d=\"M670.5,-460.91C670.5,-452.65 670.5,-443.86 670.5,-435.3\"/>\r\n",
       "<polygon fill=\"black\" stroke=\"black\" points=\"674,-435.02 670.5,-425.02 667,-435.02 674,-435.02\"/>\r\n",
       "</g>\r\n",
       "<!-- 16 -->\r\n",
       "<g id=\"node17\" class=\"node\">\r\n",
       "<title>16</title>\r\n",
       "<polygon fill=\"#e5833c\" stroke=\"black\" points=\"976,-425 851,-425 851,-342 976,-342 976,-425\"/>\r\n",
       "<text text-anchor=\"middle\" x=\"913.5\" y=\"-409.8\" font-family=\"Times New Roman,serif\" font-size=\"14.00\">area error &lt;= 23.65</text>\r\n",
       "<text text-anchor=\"middle\" x=\"913.5\" y=\"-394.8\" font-family=\"Times New Roman,serif\" font-size=\"14.00\">gini = 0.028</text>\r\n",
       "<text text-anchor=\"middle\" x=\"913.5\" y=\"-379.8\" font-family=\"Times New Roman,serif\" font-size=\"14.00\">samples = 70</text>\r\n",
       "<text text-anchor=\"middle\" x=\"913.5\" y=\"-364.8\" font-family=\"Times New Roman,serif\" font-size=\"14.00\">value = [69, 1]</text>\r\n",
       "<text text-anchor=\"middle\" x=\"913.5\" y=\"-349.8\" font-family=\"Times New Roman,serif\" font-size=\"14.00\">class = malignant</text>\r\n",
       "</g>\r\n",
       "<!-- 12&#45;&gt;16 -->\r\n",
       "<g id=\"edge16\" class=\"edge\">\r\n",
       "<title>12&#45;&gt;16</title>\r\n",
       "<path fill=\"none\" stroke=\"black\" d=\"M741.77,-467.19C773.25,-452.03 810.19,-434.24 841.73,-419.05\"/>\r\n",
       "<polygon fill=\"black\" stroke=\"black\" points=\"843.41,-422.13 850.91,-414.64 840.38,-415.82 843.41,-422.13\"/>\r\n",
       "</g>\r\n",
       "<!-- 14 -->\r\n",
       "<g id=\"node15\" class=\"node\">\r\n",
       "<title>14</title>\r\n",
       "<polygon fill=\"#399de5\" stroke=\"black\" points=\"683,-298.5 586,-298.5 586,-230.5 683,-230.5 683,-298.5\"/>\r\n",
       "<text text-anchor=\"middle\" x=\"634.5\" y=\"-283.3\" font-family=\"Times New Roman,serif\" font-size=\"14.00\">gini = 0.0</text>\r\n",
       "<text text-anchor=\"middle\" x=\"634.5\" y=\"-268.3\" font-family=\"Times New Roman,serif\" font-size=\"14.00\">samples = 5</text>\r\n",
       "<text text-anchor=\"middle\" x=\"634.5\" y=\"-253.3\" font-family=\"Times New Roman,serif\" font-size=\"14.00\">value = [0, 5]</text>\r\n",
       "<text text-anchor=\"middle\" x=\"634.5\" y=\"-238.3\" font-family=\"Times New Roman,serif\" font-size=\"14.00\">class = benign</text>\r\n",
       "</g>\r\n",
       "<!-- 13&#45;&gt;14 -->\r\n",
       "<g id=\"edge14\" class=\"edge\">\r\n",
       "<title>13&#45;&gt;14</title>\r\n",
       "<path fill=\"none\" stroke=\"black\" d=\"M658.01,-341.91C654.68,-331.09 651.08,-319.38 647.71,-308.44\"/>\r\n",
       "<polygon fill=\"black\" stroke=\"black\" points=\"650.99,-307.2 644.71,-298.67 644.3,-309.25 650.99,-307.2\"/>\r\n",
       "</g>\r\n",
       "<!-- 15 -->\r\n",
       "<g id=\"node16\" class=\"node\">\r\n",
       "<title>15</title>\r\n",
       "<polygon fill=\"#e58139\" stroke=\"black\" points=\"814,-298.5 701,-298.5 701,-230.5 814,-230.5 814,-298.5\"/>\r\n",
       "<text text-anchor=\"middle\" x=\"757.5\" y=\"-283.3\" font-family=\"Times New Roman,serif\" font-size=\"14.00\">gini = 0.0</text>\r\n",
       "<text text-anchor=\"middle\" x=\"757.5\" y=\"-268.3\" font-family=\"Times New Roman,serif\" font-size=\"14.00\">samples = 1</text>\r\n",
       "<text text-anchor=\"middle\" x=\"757.5\" y=\"-253.3\" font-family=\"Times New Roman,serif\" font-size=\"14.00\">value = [1, 0]</text>\r\n",
       "<text text-anchor=\"middle\" x=\"757.5\" y=\"-238.3\" font-family=\"Times New Roman,serif\" font-size=\"14.00\">class = malignant</text>\r\n",
       "</g>\r\n",
       "<!-- 13&#45;&gt;15 -->\r\n",
       "<g id=\"edge15\" class=\"edge\">\r\n",
       "<title>13&#45;&gt;15</title>\r\n",
       "<path fill=\"none\" stroke=\"black\" d=\"M700.68,-341.91C709.14,-330.54 718.33,-318.18 726.81,-306.77\"/>\r\n",
       "<polygon fill=\"black\" stroke=\"black\" points=\"729.68,-308.78 732.84,-298.67 724.06,-304.6 729.68,-308.78\"/>\r\n",
       "</g>\r\n",
       "<!-- 17 -->\r\n",
       "<g id=\"node18\" class=\"node\">\r\n",
       "<title>17</title>\r\n",
       "<polygon fill=\"#ffffff\" stroke=\"black\" points=\"995,-306 832,-306 832,-223 995,-223 995,-306\"/>\r\n",
       "<text text-anchor=\"middle\" x=\"913.5\" y=\"-290.8\" font-family=\"Times New Roman,serif\" font-size=\"14.00\">mean perimeter &lt;= 94.705</text>\r\n",
       "<text text-anchor=\"middle\" x=\"913.5\" y=\"-275.8\" font-family=\"Times New Roman,serif\" font-size=\"14.00\">gini = 0.5</text>\r\n",
       "<text text-anchor=\"middle\" x=\"913.5\" y=\"-260.8\" font-family=\"Times New Roman,serif\" font-size=\"14.00\">samples = 2</text>\r\n",
       "<text text-anchor=\"middle\" x=\"913.5\" y=\"-245.8\" font-family=\"Times New Roman,serif\" font-size=\"14.00\">value = [1, 1]</text>\r\n",
       "<text text-anchor=\"middle\" x=\"913.5\" y=\"-230.8\" font-family=\"Times New Roman,serif\" font-size=\"14.00\">class = malignant</text>\r\n",
       "</g>\r\n",
       "<!-- 16&#45;&gt;17 -->\r\n",
       "<g id=\"edge17\" class=\"edge\">\r\n",
       "<title>16&#45;&gt;17</title>\r\n",
       "<path fill=\"none\" stroke=\"black\" d=\"M913.5,-341.91C913.5,-333.65 913.5,-324.86 913.5,-316.3\"/>\r\n",
       "<polygon fill=\"black\" stroke=\"black\" points=\"917,-316.02 913.5,-306.02 910,-316.02 917,-316.02\"/>\r\n",
       "</g>\r\n",
       "<!-- 20 -->\r\n",
       "<g id=\"node21\" class=\"node\">\r\n",
       "<title>20</title>\r\n",
       "<polygon fill=\"#e58139\" stroke=\"black\" points=\"1126,-298.5 1013,-298.5 1013,-230.5 1126,-230.5 1126,-298.5\"/>\r\n",
       "<text text-anchor=\"middle\" x=\"1069.5\" y=\"-283.3\" font-family=\"Times New Roman,serif\" font-size=\"14.00\">gini = 0.0</text>\r\n",
       "<text text-anchor=\"middle\" x=\"1069.5\" y=\"-268.3\" font-family=\"Times New Roman,serif\" font-size=\"14.00\">samples = 68</text>\r\n",
       "<text text-anchor=\"middle\" x=\"1069.5\" y=\"-253.3\" font-family=\"Times New Roman,serif\" font-size=\"14.00\">value = [68, 0]</text>\r\n",
       "<text text-anchor=\"middle\" x=\"1069.5\" y=\"-238.3\" font-family=\"Times New Roman,serif\" font-size=\"14.00\">class = malignant</text>\r\n",
       "</g>\r\n",
       "<!-- 16&#45;&gt;20 -->\r\n",
       "<g id=\"edge20\" class=\"edge\">\r\n",
       "<title>16&#45;&gt;20</title>\r\n",
       "<path fill=\"none\" stroke=\"black\" d=\"M967.62,-341.91C983.66,-329.88 1001.19,-316.73 1017.11,-304.79\"/>\r\n",
       "<polygon fill=\"black\" stroke=\"black\" points=\"1019.38,-307.47 1025.28,-298.67 1015.18,-301.87 1019.38,-307.47\"/>\r\n",
       "</g>\r\n",
       "<!-- 18 -->\r\n",
       "<g id=\"node19\" class=\"node\">\r\n",
       "<title>18</title>\r\n",
       "<polygon fill=\"#e58139\" stroke=\"black\" points=\"908,-179.5 795,-179.5 795,-111.5 908,-111.5 908,-179.5\"/>\r\n",
       "<text text-anchor=\"middle\" x=\"851.5\" y=\"-164.3\" font-family=\"Times New Roman,serif\" font-size=\"14.00\">gini = 0.0</text>\r\n",
       "<text text-anchor=\"middle\" x=\"851.5\" y=\"-149.3\" font-family=\"Times New Roman,serif\" font-size=\"14.00\">samples = 1</text>\r\n",
       "<text text-anchor=\"middle\" x=\"851.5\" y=\"-134.3\" font-family=\"Times New Roman,serif\" font-size=\"14.00\">value = [1, 0]</text>\r\n",
       "<text text-anchor=\"middle\" x=\"851.5\" y=\"-119.3\" font-family=\"Times New Roman,serif\" font-size=\"14.00\">class = malignant</text>\r\n",
       "</g>\r\n",
       "<!-- 17&#45;&gt;18 -->\r\n",
       "<g id=\"edge18\" class=\"edge\">\r\n",
       "<title>17&#45;&gt;18</title>\r\n",
       "<path fill=\"none\" stroke=\"black\" d=\"M891.99,-222.91C886.14,-211.87 879.8,-199.9 873.9,-188.77\"/>\r\n",
       "<polygon fill=\"black\" stroke=\"black\" points=\"876.85,-186.86 869.08,-179.67 870.67,-190.14 876.85,-186.86\"/>\r\n",
       "</g>\r\n",
       "<!-- 19 -->\r\n",
       "<g id=\"node20\" class=\"node\">\r\n",
       "<title>19</title>\r\n",
       "<polygon fill=\"#399de5\" stroke=\"black\" points=\"1023,-179.5 926,-179.5 926,-111.5 1023,-111.5 1023,-179.5\"/>\r\n",
       "<text text-anchor=\"middle\" x=\"974.5\" y=\"-164.3\" font-family=\"Times New Roman,serif\" font-size=\"14.00\">gini = 0.0</text>\r\n",
       "<text text-anchor=\"middle\" x=\"974.5\" y=\"-149.3\" font-family=\"Times New Roman,serif\" font-size=\"14.00\">samples = 1</text>\r\n",
       "<text text-anchor=\"middle\" x=\"974.5\" y=\"-134.3\" font-family=\"Times New Roman,serif\" font-size=\"14.00\">value = [0, 1]</text>\r\n",
       "<text text-anchor=\"middle\" x=\"974.5\" y=\"-119.3\" font-family=\"Times New Roman,serif\" font-size=\"14.00\">class = benign</text>\r\n",
       "</g>\r\n",
       "<!-- 17&#45;&gt;19 -->\r\n",
       "<g id=\"edge19\" class=\"edge\">\r\n",
       "<title>17&#45;&gt;19</title>\r\n",
       "<path fill=\"none\" stroke=\"black\" d=\"M934.66,-222.91C940.42,-211.87 946.66,-199.9 952.46,-188.77\"/>\r\n",
       "<polygon fill=\"black\" stroke=\"black\" points=\"955.69,-190.15 957.21,-179.67 949.48,-186.92 955.69,-190.15\"/>\r\n",
       "</g>\r\n",
       "</g>\r\n",
       "</svg>\r\n"
      ],
      "text/plain": [
       "<graphviz.files.Source at 0x2b31b44b048>"
      ]
     },
     "execution_count": 53,
     "metadata": {},
     "output_type": "execute_result"
    }
   ],
   "source": [
    "print('[ max_depth의 제약이 없는 경우의 Decision Tree 시각화 ]')\n",
    "# 위에서 생성된 tree.dot 파일을 Graphiviz 가 읽어서 시각화\n",
    "with open(\"tree.dot\") as f:\n",
    "    dot_graph = f.read()\n",
    "graphviz.Source(dot_graph)"
   ]
  },
  {
   "cell_type": "markdown",
   "id": "f4d46f43",
   "metadata": {
    "id": "FxNrQ3Cqo7uh"
   },
   "source": [
    "- gini : 다음의 value=[]로 주어진 데이터 분포에서의 지니계수\n",
    "- samples : 현 규칙에 해당하는 데이터 건수\n",
    "- value=[] : 클래스 값(y label)에 해당하는 데이터 건수"
   ]
  },
  {
   "cell_type": "markdown",
   "id": "6b429cd8",
   "metadata": {
    "id": "IOx6doOdp9vu"
   },
   "source": [
    "# 4. 의사결정나무 모델 테스트"
   ]
  },
  {
   "cell_type": "code",
   "execution_count": 54,
   "id": "e5e345ce",
   "metadata": {
    "executionInfo": {
     "elapsed": 771,
     "status": "ok",
     "timestamp": 1616656677022,
     "user": {
      "displayName": "고해지",
      "photoUrl": "",
      "userId": "12709063932312169253"
     },
     "user_tz": -540
    },
    "id": "supreme-array"
   },
   "outputs": [],
   "source": [
    "y_pred = dt_clf.predict(x_test) "
   ]
  },
  {
   "cell_type": "code",
   "execution_count": 55,
   "id": "dfc704de",
   "metadata": {
    "colab": {
     "base_uri": "https://localhost:8080/"
    },
    "executionInfo": {
     "elapsed": 796,
     "status": "ok",
     "timestamp": 1616656701390,
     "user": {
      "displayName": "고해지",
      "photoUrl": "",
      "userId": "12709063932312169253"
     },
     "user_tz": -540
    },
    "id": "BsxJoB5-qZQ6",
    "outputId": "a4a518e2-c17b-400e-907d-796ef297e9b5"
   },
   "outputs": [
    {
     "name": "stdout",
     "output_type": "stream",
     "text": [
      "Train_Accuracy :  1.0 \n",
      "\n",
      "Test_Accuracy :  0.9197994987468672 \n",
      "\n",
      "Accuracy:  0.92 \n",
      "\n",
      "Recall:  0.95 \n",
      "\n",
      "Precision:  0.93 \n",
      "\n",
      "F1_score:  0.94 \n",
      "\n",
      "Confusion Matrix: \n",
      " [[119  18]\n",
      " [ 14 248]]\n"
     ]
    }
   ],
   "source": [
    "\n",
    "# 학습결과 평가\n",
    "print(\"Train_Accuracy : \", dt_clf.score(x_train, y_train), '\\n')\n",
    "print(\"Test_Accuracy : \", dt_clf.score(x_test, y_test), '\\n')\n",
    "\n",
    "accuracy = mt.accuracy_score(y_test, y_pred)\n",
    "recall = mt.recall_score(y_test, y_pred)\n",
    "precision = mt.precision_score(y_test, y_pred)\n",
    "f1_score = mt.f1_score(y_test, y_pred)\n",
    "matrix = mt.confusion_matrix(y_test, y_pred)\n",
    "\n",
    "print('Accuracy: ', format(accuracy,'.2f'),'\\n')\n",
    "print('Recall: ', format(recall,'.2f'),'\\n')\n",
    "print('Precision: ', format(precision,'.2f'),'\\n')\n",
    "print('F1_score: ', format(f1_score,'.2f'),'\\n')\n",
    "print('Confusion Matrix:','\\n', matrix)"
   ]
  },
  {
   "cell_type": "markdown",
   "id": "d4aea574",
   "metadata": {
    "id": "xDtL22_dqhX1"
   },
   "source": [
    "## Cross Validation"
   ]
  },
  {
   "cell_type": "code",
   "execution_count": 56,
   "id": "05e585f3",
   "metadata": {
    "colab": {
     "base_uri": "https://localhost:8080/"
    },
    "executionInfo": {
     "elapsed": 1346,
     "status": "ok",
     "timestamp": 1616656744355,
     "user": {
      "displayName": "고해지",
      "photoUrl": "",
      "userId": "12709063932312169253"
     },
     "user_tz": -540
    },
    "id": "flG0CwtYqljt",
    "outputId": "89201be5-813d-4f57-db09-27f08e53f822"
   },
   "outputs": [
    {
     "name": "stdout",
     "output_type": "stream",
     "text": [
      "Averaged results of cross validation:  0.9120943952802361\n"
     ]
    }
   ],
   "source": [
    "# 교차검증\n",
    "\n",
    "x = cancer.data\n",
    "y = cancer.target\n",
    "\n",
    "# 각 폴드의 스코어 \n",
    "scores = cross_val_score(dt_clf, x, y, cv = 5)\n",
    "\n",
    "print('Averaged results of cross validation: ', scores.mean())"
   ]
  },
  {
   "cell_type": "code",
   "execution_count": 57,
   "id": "ae2e41ab",
   "metadata": {
    "colab": {
     "base_uri": "https://localhost:8080/",
     "height": 204
    },
    "executionInfo": {
     "elapsed": 1441,
     "status": "ok",
     "timestamp": 1616656751357,
     "user": {
      "displayName": "고해지",
      "photoUrl": "",
      "userId": "12709063932312169253"
     },
     "user_tz": -540
    },
    "id": "qmMv_JQ7vn66",
    "outputId": "854650d6-3a2d-4075-ec65-d87b6bc432d6"
   },
   "outputs": [
    {
     "data": {
      "text/html": [
       "<div>\n",
       "<style scoped>\n",
       "    .dataframe tbody tr th:only-of-type {\n",
       "        vertical-align: middle;\n",
       "    }\n",
       "\n",
       "    .dataframe tbody tr th {\n",
       "        vertical-align: top;\n",
       "    }\n",
       "\n",
       "    .dataframe thead th {\n",
       "        text-align: right;\n",
       "    }\n",
       "</style>\n",
       "<table border=\"1\" class=\"dataframe\">\n",
       "  <thead>\n",
       "    <tr style=\"text-align: right;\">\n",
       "      <th></th>\n",
       "      <th>fit_time</th>\n",
       "      <th>score_time</th>\n",
       "      <th>test_score</th>\n",
       "    </tr>\n",
       "  </thead>\n",
       "  <tbody>\n",
       "    <tr>\n",
       "      <th>0</th>\n",
       "      <td>0.006983</td>\n",
       "      <td>0.001029</td>\n",
       "      <td>0.912281</td>\n",
       "    </tr>\n",
       "    <tr>\n",
       "      <th>1</th>\n",
       "      <td>0.006979</td>\n",
       "      <td>0.000999</td>\n",
       "      <td>0.921053</td>\n",
       "    </tr>\n",
       "    <tr>\n",
       "      <th>2</th>\n",
       "      <td>0.009974</td>\n",
       "      <td>0.000998</td>\n",
       "      <td>0.903509</td>\n",
       "    </tr>\n",
       "    <tr>\n",
       "      <th>3</th>\n",
       "      <td>0.009941</td>\n",
       "      <td>0.000000</td>\n",
       "      <td>0.929825</td>\n",
       "    </tr>\n",
       "    <tr>\n",
       "      <th>4</th>\n",
       "      <td>0.006977</td>\n",
       "      <td>0.001031</td>\n",
       "      <td>0.893805</td>\n",
       "    </tr>\n",
       "  </tbody>\n",
       "</table>\n",
       "</div>"
      ],
      "text/plain": [
       "   fit_time  score_time  test_score\n",
       "0  0.006983    0.001029    0.912281\n",
       "1  0.006979    0.000999    0.921053\n",
       "2  0.009974    0.000998    0.903509\n",
       "3  0.009941    0.000000    0.929825\n",
       "4  0.006977    0.001031    0.893805"
      ]
     },
     "execution_count": 57,
     "metadata": {},
     "output_type": "execute_result"
    }
   ],
   "source": [
    "pd.DataFrame(cross_validate(dt_clf, x, y, cv =5))"
   ]
  },
  {
   "cell_type": "code",
   "execution_count": 58,
   "id": "f1398bfd",
   "metadata": {
    "colab": {
     "base_uri": "https://localhost:8080/"
    },
    "executionInfo": {
     "elapsed": 1355,
     "status": "ok",
     "timestamp": 1616656785170,
     "user": {
      "displayName": "고해지",
      "photoUrl": "",
      "userId": "12709063932312169253"
     },
     "user_tz": -540
    },
    "id": "6_rmVzT19Zxl",
    "outputId": "98743d2a-2a47-4f02-beb1-20dc038bb530"
   },
   "outputs": [
    {
     "data": {
      "text/plain": [
       "0.9197994987468672"
      ]
     },
     "execution_count": 58,
     "metadata": {},
     "output_type": "execute_result"
    }
   ],
   "source": [
    "# test set에 대한 스코어(정확도)\n",
    "dt_clf.score(x_test, y_test)"
   ]
  },
  {
   "cell_type": "markdown",
   "id": "2b649ea3",
   "metadata": {
    "id": "GSU_J9RBqmdM"
   },
   "source": [
    "# 5. 가지치기 수행 (Pruning phase)"
   ]
  },
  {
   "cell_type": "code",
   "execution_count": 59,
   "id": "03dce207",
   "metadata": {
    "colab": {
     "base_uri": "https://localhost:8080/"
    },
    "executionInfo": {
     "elapsed": 596,
     "status": "ok",
     "timestamp": 1616656797693,
     "user": {
      "displayName": "고해지",
      "photoUrl": "",
      "userId": "12709063932312169253"
     },
     "user_tz": -540
    },
    "id": "UulsN7VCqpmU",
    "outputId": "c0c2731b-e7cc-4229-f843-6319ac0121e4"
   },
   "outputs": [
    {
     "name": "stdout",
     "output_type": "stream",
     "text": [
      "Accuracy of training set: 0.971\n",
      "Accuracy of test set: 0.932\n"
     ]
    }
   ],
   "source": [
    "pruned_dt_clf = DecisionTreeClassifier(max_depth=2, random_state=156) # max_depth=3으로 제한\n",
    "pruned_dt_clf .fit(x_train, y_train)\n",
    "\n",
    "print(\"Accuracy of training set: {:.3f}\".format(pruned_dt_clf.score(x_train, y_train)))\n",
    "print(\"Accuracy of test set: {:.3f}\".format(pruned_dt_clf.score(x_test, y_test)))\n"
   ]
  },
  {
   "cell_type": "markdown",
   "id": "884d2b7a",
   "metadata": {
    "id": "c5pyS1rcQV7D"
   },
   "source": [
    "> 가지치기 수행 전보다 test set에 대한 정확도가 향상됨을 확인할 수 있다. (0.9298 -> 0.9706)"
   ]
  },
  {
   "cell_type": "code",
   "execution_count": 60,
   "id": "90493ad4",
   "metadata": {
    "executionInfo": {
     "elapsed": 731,
     "status": "ok",
     "timestamp": 1616656903505,
     "user": {
      "displayName": "고해지",
      "photoUrl": "",
      "userId": "12709063932312169253"
     },
     "user_tz": -540
    },
    "id": "SlK2rVR08JcA"
   },
   "outputs": [],
   "source": [
    "# export_graphviz( )의 호출 결과로 out_file로 지정된 tree.dot 파일을 생성함\n",
    "export_graphviz(pruned_dt_clf, out_file=\"prunedtree.dot\", class_names = cancer.target_names, feature_names = cancer.feature_names, impurity=True, filled=True)"
   ]
  },
  {
   "cell_type": "code",
   "execution_count": 61,
   "id": "d0b02f23",
   "metadata": {
    "colab": {
     "base_uri": "https://localhost:8080/",
     "height": 457
    },
    "executionInfo": {
     "elapsed": 606,
     "status": "ok",
     "timestamp": 1616656962037,
     "user": {
      "displayName": "고해지",
      "photoUrl": "",
      "userId": "12709063932312169253"
     },
     "user_tz": -540
    },
    "id": "lLIS-tv790is",
    "outputId": "24d31d01-1f03-474a-f184-9323478fbb9b"
   },
   "outputs": [
    {
     "name": "stdout",
     "output_type": "stream",
     "text": [
      "[ max_depth가 2인 경우의 Decision Tree 시각화 ]\n"
     ]
    },
    {
     "data": {
      "image/svg+xml": [
       "<?xml version=\"1.0\" encoding=\"UTF-8\" standalone=\"no\"?>\r\n",
       "<!DOCTYPE svg PUBLIC \"-//W3C//DTD SVG 1.1//EN\"\r\n",
       " \"http://www.w3.org/Graphics/SVG/1.1/DTD/svg11.dtd\">\r\n",
       "<!-- Generated by graphviz version 2.47.1 (20210417.1919)\r\n",
       " -->\r\n",
       "<!-- Title: Tree Pages: 1 -->\r\n",
       "<svg width=\"515pt\" height=\"314pt\"\r\n",
       " viewBox=\"0.00 0.00 514.50 314.00\" xmlns=\"http://www.w3.org/2000/svg\" xmlns:xlink=\"http://www.w3.org/1999/xlink\">\r\n",
       "<g id=\"graph0\" class=\"graph\" transform=\"scale(1 1) rotate(0) translate(4 310)\">\r\n",
       "<title>Tree</title>\r\n",
       "<polygon fill=\"white\" stroke=\"transparent\" points=\"-4,4 -4,-310 510.5,-310 510.5,4 -4,4\"/>\r\n",
       "<!-- 0 -->\r\n",
       "<g id=\"node1\" class=\"node\">\r\n",
       "<title>0</title>\r\n",
       "<polygon fill=\"#d5eafa\" stroke=\"black\" points=\"331.5,-306 166.5,-306 166.5,-223 331.5,-223 331.5,-306\"/>\r\n",
       "<text text-anchor=\"middle\" x=\"249\" y=\"-290.8\" font-family=\"Times New Roman,serif\" font-size=\"14.00\">worst perimeter &lt;= 107.25</text>\r\n",
       "<text text-anchor=\"middle\" x=\"249\" y=\"-275.8\" font-family=\"Times New Roman,serif\" font-size=\"14.00\">gini = 0.493</text>\r\n",
       "<text text-anchor=\"middle\" x=\"249\" y=\"-260.8\" font-family=\"Times New Roman,serif\" font-size=\"14.00\">samples = 170</text>\r\n",
       "<text text-anchor=\"middle\" x=\"249\" y=\"-245.8\" font-family=\"Times New Roman,serif\" font-size=\"14.00\">value = [75, 95]</text>\r\n",
       "<text text-anchor=\"middle\" x=\"249\" y=\"-230.8\" font-family=\"Times New Roman,serif\" font-size=\"14.00\">class = benign</text>\r\n",
       "</g>\r\n",
       "<!-- 1 -->\r\n",
       "<g id=\"node2\" class=\"node\">\r\n",
       "<title>1</title>\r\n",
       "<polygon fill=\"#44a3e6\" stroke=\"black\" points=\"252.5,-187 61.5,-187 61.5,-104 252.5,-104 252.5,-187\"/>\r\n",
       "<text text-anchor=\"middle\" x=\"157\" y=\"-171.8\" font-family=\"Times New Roman,serif\" font-size=\"14.00\">worst concave points &lt;= 0.159</text>\r\n",
       "<text text-anchor=\"middle\" x=\"157\" y=\"-156.8\" font-family=\"Times New Roman,serif\" font-size=\"14.00\">gini = 0.101</text>\r\n",
       "<text text-anchor=\"middle\" x=\"157\" y=\"-141.8\" font-family=\"Times New Roman,serif\" font-size=\"14.00\">samples = 94</text>\r\n",
       "<text text-anchor=\"middle\" x=\"157\" y=\"-126.8\" font-family=\"Times New Roman,serif\" font-size=\"14.00\">value = [5, 89]</text>\r\n",
       "<text text-anchor=\"middle\" x=\"157\" y=\"-111.8\" font-family=\"Times New Roman,serif\" font-size=\"14.00\">class = benign</text>\r\n",
       "</g>\r\n",
       "<!-- 0&#45;&gt;1 -->\r\n",
       "<g id=\"edge1\" class=\"edge\">\r\n",
       "<title>0&#45;&gt;1</title>\r\n",
       "<path fill=\"none\" stroke=\"black\" d=\"M217.08,-222.91C210.02,-213.92 202.46,-204.32 195.18,-195.05\"/>\r\n",
       "<polygon fill=\"black\" stroke=\"black\" points=\"197.8,-192.72 188.86,-187.02 192.29,-197.05 197.8,-192.72\"/>\r\n",
       "<text text-anchor=\"middle\" x=\"185.89\" y=\"-208.14\" font-family=\"Times New Roman,serif\" font-size=\"14.00\">True</text>\r\n",
       "</g>\r\n",
       "<!-- 4 -->\r\n",
       "<g id=\"node5\" class=\"node\">\r\n",
       "<title>4</title>\r\n",
       "<polygon fill=\"#e78c4a\" stroke=\"black\" points=\"413,-187 271,-187 271,-104 413,-104 413,-187\"/>\r\n",
       "<text text-anchor=\"middle\" x=\"342\" y=\"-171.8\" font-family=\"Times New Roman,serif\" font-size=\"14.00\">mean texture &lt;= 16.05</text>\r\n",
       "<text text-anchor=\"middle\" x=\"342\" y=\"-156.8\" font-family=\"Times New Roman,serif\" font-size=\"14.00\">gini = 0.145</text>\r\n",
       "<text text-anchor=\"middle\" x=\"342\" y=\"-141.8\" font-family=\"Times New Roman,serif\" font-size=\"14.00\">samples = 76</text>\r\n",
       "<text text-anchor=\"middle\" x=\"342\" y=\"-126.8\" font-family=\"Times New Roman,serif\" font-size=\"14.00\">value = [70, 6]</text>\r\n",
       "<text text-anchor=\"middle\" x=\"342\" y=\"-111.8\" font-family=\"Times New Roman,serif\" font-size=\"14.00\">class = malignant</text>\r\n",
       "</g>\r\n",
       "<!-- 0&#45;&gt;4 -->\r\n",
       "<g id=\"edge4\" class=\"edge\">\r\n",
       "<title>0&#45;&gt;4</title>\r\n",
       "<path fill=\"none\" stroke=\"black\" d=\"M281.27,-222.91C288.41,-213.92 296.04,-204.32 303.41,-195.05\"/>\r\n",
       "<polygon fill=\"black\" stroke=\"black\" points=\"306.31,-197.03 309.79,-187.02 300.83,-192.67 306.31,-197.03\"/>\r\n",
       "<text text-anchor=\"middle\" x=\"312.63\" y=\"-208.16\" font-family=\"Times New Roman,serif\" font-size=\"14.00\">False</text>\r\n",
       "</g>\r\n",
       "<!-- 2 -->\r\n",
       "<g id=\"node3\" class=\"node\">\r\n",
       "<title>2</title>\r\n",
       "<polygon fill=\"#3d9fe6\" stroke=\"black\" points=\"98,-68 0,-68 0,0 98,0 98,-68\"/>\r\n",
       "<text text-anchor=\"middle\" x=\"49\" y=\"-52.8\" font-family=\"Times New Roman,serif\" font-size=\"14.00\">gini = 0.043</text>\r\n",
       "<text text-anchor=\"middle\" x=\"49\" y=\"-37.8\" font-family=\"Times New Roman,serif\" font-size=\"14.00\">samples = 90</text>\r\n",
       "<text text-anchor=\"middle\" x=\"49\" y=\"-22.8\" font-family=\"Times New Roman,serif\" font-size=\"14.00\">value = [2, 88]</text>\r\n",
       "<text text-anchor=\"middle\" x=\"49\" y=\"-7.8\" font-family=\"Times New Roman,serif\" font-size=\"14.00\">class = benign</text>\r\n",
       "</g>\r\n",
       "<!-- 1&#45;&gt;2 -->\r\n",
       "<g id=\"edge2\" class=\"edge\">\r\n",
       "<title>1&#45;&gt;2</title>\r\n",
       "<path fill=\"none\" stroke=\"black\" d=\"M116.78,-103.73C107.7,-94.51 98.06,-84.74 88.98,-75.53\"/>\r\n",
       "<polygon fill=\"black\" stroke=\"black\" points=\"91.36,-72.96 81.84,-68.3 86.37,-77.88 91.36,-72.96\"/>\r\n",
       "</g>\r\n",
       "<!-- 3 -->\r\n",
       "<g id=\"node4\" class=\"node\">\r\n",
       "<title>3</title>\r\n",
       "<polygon fill=\"#eeab7b\" stroke=\"black\" points=\"229.5,-68 116.5,-68 116.5,0 229.5,0 229.5,-68\"/>\r\n",
       "<text text-anchor=\"middle\" x=\"173\" y=\"-52.8\" font-family=\"Times New Roman,serif\" font-size=\"14.00\">gini = 0.375</text>\r\n",
       "<text text-anchor=\"middle\" x=\"173\" y=\"-37.8\" font-family=\"Times New Roman,serif\" font-size=\"14.00\">samples = 4</text>\r\n",
       "<text text-anchor=\"middle\" x=\"173\" y=\"-22.8\" font-family=\"Times New Roman,serif\" font-size=\"14.00\">value = [3, 1]</text>\r\n",
       "<text text-anchor=\"middle\" x=\"173\" y=\"-7.8\" font-family=\"Times New Roman,serif\" font-size=\"14.00\">class = malignant</text>\r\n",
       "</g>\r\n",
       "<!-- 1&#45;&gt;3 -->\r\n",
       "<g id=\"edge3\" class=\"edge\">\r\n",
       "<title>1&#45;&gt;3</title>\r\n",
       "<path fill=\"none\" stroke=\"black\" d=\"M162.96,-103.73C164.17,-95.43 165.45,-86.67 166.68,-78.28\"/>\r\n",
       "<polygon fill=\"black\" stroke=\"black\" points=\"170.15,-78.7 168.13,-68.3 163.23,-77.69 170.15,-78.7\"/>\r\n",
       "</g>\r\n",
       "<!-- 5 -->\r\n",
       "<g id=\"node6\" class=\"node\">\r\n",
       "<title>5</title>\r\n",
       "<polygon fill=\"#61b1ea\" stroke=\"black\" points=\"375.5,-68 278.5,-68 278.5,0 375.5,0 375.5,-68\"/>\r\n",
       "<text text-anchor=\"middle\" x=\"327\" y=\"-52.8\" font-family=\"Times New Roman,serif\" font-size=\"14.00\">gini = 0.278</text>\r\n",
       "<text text-anchor=\"middle\" x=\"327\" y=\"-37.8\" font-family=\"Times New Roman,serif\" font-size=\"14.00\">samples = 6</text>\r\n",
       "<text text-anchor=\"middle\" x=\"327\" y=\"-22.8\" font-family=\"Times New Roman,serif\" font-size=\"14.00\">value = [1, 5]</text>\r\n",
       "<text text-anchor=\"middle\" x=\"327\" y=\"-7.8\" font-family=\"Times New Roman,serif\" font-size=\"14.00\">class = benign</text>\r\n",
       "</g>\r\n",
       "<!-- 4&#45;&gt;5 -->\r\n",
       "<g id=\"edge5\" class=\"edge\">\r\n",
       "<title>4&#45;&gt;5</title>\r\n",
       "<path fill=\"none\" stroke=\"black\" d=\"M336.41,-103.73C335.28,-95.43 334.08,-86.67 332.93,-78.28\"/>\r\n",
       "<polygon fill=\"black\" stroke=\"black\" points=\"336.39,-77.73 331.56,-68.3 329.45,-78.68 336.39,-77.73\"/>\r\n",
       "</g>\r\n",
       "<!-- 6 -->\r\n",
       "<g id=\"node7\" class=\"node\">\r\n",
       "<title>6</title>\r\n",
       "<polygon fill=\"#e5833c\" stroke=\"black\" points=\"506.5,-68 393.5,-68 393.5,0 506.5,0 506.5,-68\"/>\r\n",
       "<text text-anchor=\"middle\" x=\"450\" y=\"-52.8\" font-family=\"Times New Roman,serif\" font-size=\"14.00\">gini = 0.028</text>\r\n",
       "<text text-anchor=\"middle\" x=\"450\" y=\"-37.8\" font-family=\"Times New Roman,serif\" font-size=\"14.00\">samples = 70</text>\r\n",
       "<text text-anchor=\"middle\" x=\"450\" y=\"-22.8\" font-family=\"Times New Roman,serif\" font-size=\"14.00\">value = [69, 1]</text>\r\n",
       "<text text-anchor=\"middle\" x=\"450\" y=\"-7.8\" font-family=\"Times New Roman,serif\" font-size=\"14.00\">class = malignant</text>\r\n",
       "</g>\r\n",
       "<!-- 4&#45;&gt;6 -->\r\n",
       "<g id=\"edge6\" class=\"edge\">\r\n",
       "<title>4&#45;&gt;6</title>\r\n",
       "<path fill=\"none\" stroke=\"black\" d=\"M382.22,-103.73C391.3,-94.51 400.94,-84.74 410.02,-75.53\"/>\r\n",
       "<polygon fill=\"black\" stroke=\"black\" points=\"412.63,-77.88 417.16,-68.3 407.64,-72.96 412.63,-77.88\"/>\r\n",
       "</g>\r\n",
       "</g>\r\n",
       "</svg>\r\n"
      ],
      "text/plain": [
       "<graphviz.files.Source at 0x2b31b470b08>"
      ]
     },
     "execution_count": 61,
     "metadata": {},
     "output_type": "execute_result"
    }
   ],
   "source": [
    "print('[ max_depth가 2인 경우의 Decision Tree 시각화 ]')\n",
    "# 위에서 생성된 tree.dot 파일을 Graphiviz 가 읽어서 시각화\n",
    "with open(\"prunedtree.dot\") as f:\n",
    "    dot_graph = f.read()\n",
    "graphviz.Source(dot_graph)"
   ]
  },
  {
   "cell_type": "markdown",
   "id": "8a050c66",
   "metadata": {},
   "source": [
    "※ Graphviz Error 발생 시 https://graphviz.gitlab.io/ 사이트에서 installer를 설치하고 시스템 환경변수 설정완료 후 파이썬 세션을 재실행할 것"
   ]
  }
 ],
 "metadata": {
  "colab": {
   "collapsed_sections": [],
   "name": "DecisionTree.ipynb",
   "provenance": [
    {
     "file_id": "1c3wmF5gu_EzqyTKavRDn99O7AIeSdoxo",
     "timestamp": 1616655919294
    }
   ],
   "toc_visible": true
  },
  "kernelspec": {
   "display_name": "Python 3",
   "language": "python",
   "name": "python3"
  },
  "language_info": {
   "codemirror_mode": {
    "name": "ipython",
    "version": 3
   },
   "file_extension": ".py",
   "mimetype": "text/x-python",
   "name": "python",
   "nbconvert_exporter": "python",
   "pygments_lexer": "ipython3",
   "version": "3.8.8"
  },
  "toc": {
   "base_numbering": 1,
   "nav_menu": {},
   "number_sections": true,
   "sideBar": true,
   "skip_h1_title": false,
   "title_cell": "Table of Contents",
   "title_sidebar": "Contents",
   "toc_cell": false,
   "toc_position": {},
   "toc_section_display": true,
   "toc_window_display": true
  }
 },
 "nbformat": 4,
 "nbformat_minor": 5
}
